{
 "cells": [
  {
   "cell_type": "code",
   "execution_count": 1,
   "id": "8a29b45f",
   "metadata": {},
   "outputs": [],
   "source": [
    "# In built data-Type in python\n",
    "# Strings\n",
    "# List\n",
    "# Tuples\n",
    "# Dictionary\n",
    "# Set"
   ]
  },
  {
   "cell_type": "code",
   "execution_count": 2,
   "id": "e177f3c8",
   "metadata": {},
   "outputs": [],
   "source": [
    "integer = 256\n",
    "integer1 = 256\n",
    "integer2 = 1000"
   ]
  },
  {
   "cell_type": "code",
   "execution_count": 3,
   "id": "69986bbd",
   "metadata": {},
   "outputs": [
    {
     "name": "stdout",
     "output_type": "stream",
     "text": [
      "2048374087888 2048374087888 2048456554128\n"
     ]
    }
   ],
   "source": [
    "print(id(integer), id(integer1), id(integer2))"
   ]
  },
  {
   "cell_type": "code",
   "execution_count": 4,
   "id": "c6da5cb1",
   "metadata": {},
   "outputs": [
    {
     "name": "stdout",
     "output_type": "stream",
     "text": [
      "2048374087888 2048374080016 2048456554128\n"
     ]
    }
   ],
   "source": [
    "integer1 = 10\n",
    "print(id(integer), id(integer1), id(integer2))"
   ]
  },
  {
   "cell_type": "code",
   "execution_count": 8,
   "id": "522791ef",
   "metadata": {},
   "outputs": [
    {
     "name": "stdout",
     "output_type": "stream",
     "text": [
      "Hello world, my name is Saihajpreet\n"
     ]
    }
   ],
   "source": [
    "name = 'Saihajpreet'\n",
    "print(\"Hello world, my name is\", name)"
   ]
  },
  {
   "cell_type": "code",
   "execution_count": 9,
   "id": "1c02a21a",
   "metadata": {},
   "outputs": [
    {
     "name": "stdout",
     "output_type": "stream",
     "text": [
      "Hello world, my name is Saihajpreet\n"
     ]
    }
   ],
   "source": [
    "name = 'Saihajpreet'\n",
    "print(\"Hello world, my name is \" + name)"
   ]
  },
  {
   "cell_type": "code",
   "execution_count": 10,
   "id": "70d1a256",
   "metadata": {},
   "outputs": [
    {
     "name": "stdout",
     "output_type": "stream",
     "text": [
      "Hello world, my name is Saihajpreet Singh\n"
     ]
    }
   ],
   "source": [
    "last_name = 'Singh'\n",
    "print(\"Hello world, my name is {} {}\".format(name, last_name))"
   ]
  },
  {
   "cell_type": "code",
   "execution_count": 11,
   "id": "8b48e6be",
   "metadata": {},
   "outputs": [
    {
     "name": "stdout",
     "output_type": "stream",
     "text": [
      "Hello world, my name is Saihajpreet Singh\n"
     ]
    }
   ],
   "source": [
    "# F string\n",
    "print(f\"Hello world, my name is {name} {last_name}\")"
   ]
  },
  {
   "cell_type": "code",
   "execution_count": 12,
   "id": "189f5846",
   "metadata": {},
   "outputs": [
    {
     "name": "stdout",
     "output_type": "stream",
     "text": [
      "7\n",
      "18\n",
      "The input 1 is 7, input 2 is 18\n"
     ]
    }
   ],
   "source": [
    "print(f\"The input 1 is {input()}, input 2 is {input()}\")"
   ]
  },
  {
   "cell_type": "code",
   "execution_count": 17,
   "id": "4988a8f5",
   "metadata": {},
   "outputs": [
    {
     "name": "stdout",
     "output_type": "stream",
     "text": [
      "Enter string yes\n",
      "Go ahead\n"
     ]
    }
   ],
   "source": [
    "if input(\"Enter string \") == 'yes':\n",
    "    print(\"Go ahead\")\n",
    "else:\n",
    "    print(\"Wrong input\")"
   ]
  },
  {
   "cell_type": "code",
   "execution_count": 32,
   "id": "30a88b3e",
   "metadata": {},
   "outputs": [
    {
     "name": "stdout",
     "output_type": "stream",
     "text": [
      "Enter string     yes  18\n",
      "     yes  18\n",
      "yes  18\n"
     ]
    }
   ],
   "source": [
    "inp = input('Enter string')\n",
    "print(inp)\n",
    "print(inp.strip())"
   ]
  },
  {
   "cell_type": "code",
   "execution_count": 31,
   "id": "456cf959",
   "metadata": {},
   "outputs": [
    {
     "name": "stdout",
     "output_type": "stream",
     "text": [
      "Enter string     yes     18\n",
      "Wrong input\n"
     ]
    }
   ],
   "source": [
    "if input(\"Enter string\").strip() == 'yes':\n",
    "    print(\"Go ahead\")\n",
    "else:\n",
    "    print(\"Wrong input\")"
   ]
  },
  {
   "cell_type": "code",
   "execution_count": 21,
   "id": "3cc7e269",
   "metadata": {},
   "outputs": [
    {
     "name": "stdout",
     "output_type": "stream",
     "text": [
      "I am dancing\n",
      "I am dancing\n"
     ]
    }
   ],
   "source": [
    "print(input())"
   ]
  },
  {
   "cell_type": "code",
   "execution_count": 23,
   "id": "f099654e",
   "metadata": {},
   "outputs": [
    {
     "name": "stdout",
     "output_type": "stream",
     "text": [
      "['Saihajpreet', 'Singh']\n"
     ]
    }
   ],
   "source": [
    "naam = 'Saihajpreet Singh'\n",
    "print(naam.split())"
   ]
  },
  {
   "cell_type": "code",
   "execution_count": 24,
   "id": "9ffb8ca1",
   "metadata": {},
   "outputs": [
    {
     "name": "stdout",
     "output_type": "stream",
     "text": [
      "['the', 'man', 'is', 'sleeping', 'on', 'the', 'bench']\n"
     ]
    }
   ],
   "source": [
    "string = 'the_man_is_sleeping_on_the_bench'\n",
    "print(string.split('_'))"
   ]
  },
  {
   "cell_type": "code",
   "execution_count": 25,
   "id": "617160d1",
   "metadata": {},
   "outputs": [
    {
     "name": "stdout",
     "output_type": "stream",
     "text": [
      "5\n"
     ]
    }
   ],
   "source": [
    "print(string.count('e'))"
   ]
  },
  {
   "cell_type": "code",
   "execution_count": 26,
   "id": "3df9f775",
   "metadata": {},
   "outputs": [
    {
     "name": "stdout",
     "output_type": "stream",
     "text": [
      "V\n",
      "i\n",
      "r\n",
      "a\n",
      "t\n"
     ]
    }
   ],
   "source": [
    "name = 'Virat'\n",
    "for i in name:\n",
    "    print(i)"
   ]
  },
  {
   "cell_type": "code",
   "execution_count": 27,
   "id": "343e4bf3",
   "metadata": {},
   "outputs": [
    {
     "name": "stdout",
     "output_type": "stream",
     "text": [
      "thb_man_is_slbbping_on_thb_bbnch\n"
     ]
    }
   ],
   "source": [
    "print(string.replace('e', 'b'))"
   ]
  },
  {
   "cell_type": "code",
   "execution_count": 28,
   "id": "3a343b28",
   "metadata": {},
   "outputs": [
    {
     "name": "stdout",
     "output_type": "stream",
     "text": [
      "Vaihajpreet Vingh\n"
     ]
    }
   ],
   "source": [
    "name = 'Saihajpreet Singh'\n",
    "print(name.replace('S', 'V'))"
   ]
  },
  {
   "cell_type": "code",
   "execution_count": 29,
   "id": "4db9b0f9",
   "metadata": {},
   "outputs": [
    {
     "name": "stdout",
     "output_type": "stream",
     "text": [
      "Saihaj      13\n",
      "Authenticated\n"
     ]
    }
   ],
   "source": [
    "if(input().startswith('Saihaj')):\n",
    "    print('Authenticated')\n",
    "else:\n",
    "    print('denied')"
   ]
  },
  {
   "cell_type": "code",
   "execution_count": 30,
   "id": "2837a5d1",
   "metadata": {},
   "outputs": [
    {
     "name": "stdout",
     "output_type": "stream",
     "text": [
      "Enter Auntentication:       Saihaj    13 bday\n",
      "Authticated\n"
     ]
    }
   ],
   "source": [
    "while 1:\n",
    "    inp = input('Enter Auntentication:')\n",
    "    if (inp.strip() == 'Saihaj') or inp.split()[0] == 'Saihaj':\n",
    "        print(\"Authticated\")\n",
    "        break\n",
    "    else:\n",
    "        print(\"no\")"
   ]
  },
  {
   "cell_type": "code",
   "execution_count": 33,
   "id": "50aa5354",
   "metadata": {},
   "outputs": [
    {
     "data": {
      "text/plain": [
       "'Saihajpreet Singh'"
      ]
     },
     "execution_count": 33,
     "metadata": {},
     "output_type": "execute_result"
    }
   ],
   "source": [
    "name"
   ]
  },
  {
   "cell_type": "code",
   "execution_count": 34,
   "id": "22a89ea1",
   "metadata": {},
   "outputs": [
    {
     "name": "stdout",
     "output_type": "stream",
     "text": [
      "SAIHAJPREET SINGH\n"
     ]
    }
   ],
   "source": [
    "print(name.upper())"
   ]
  },
  {
   "cell_type": "code",
   "execution_count": 35,
   "id": "4c3bcb83",
   "metadata": {},
   "outputs": [
    {
     "name": "stdout",
     "output_type": "stream",
     "text": [
      "saihajpreet singh\n"
     ]
    }
   ],
   "source": [
    "print(name.lower())"
   ]
  },
  {
   "cell_type": "code",
   "execution_count": 36,
   "id": "1ec0e752",
   "metadata": {},
   "outputs": [
    {
     "name": "stdout",
     "output_type": "stream",
     "text": [
      "a A\n"
     ]
    }
   ],
   "source": [
    "print(chr(97), chr(ord('a') - 32))"
   ]
  },
  {
   "cell_type": "code",
   "execution_count": 37,
   "id": "d067ebcc",
   "metadata": {},
   "outputs": [],
   "source": [
    "def con_l_u(string):\n",
    "    for i in string:\n",
    "        print(chr(ord(i) - 32))"
   ]
  },
  {
   "cell_type": "code",
   "execution_count": 38,
   "id": "a5c87019",
   "metadata": {},
   "outputs": [
    {
     "name": "stdout",
     "output_type": "stream",
     "text": [
      "V\n",
      "I\n",
      "R\n",
      "A\n",
      "T\n"
     ]
    }
   ],
   "source": [
    "con_l_u('virat')"
   ]
  },
  {
   "cell_type": "code",
   "execution_count": 39,
   "id": "ee767ba4",
   "metadata": {},
   "outputs": [],
   "source": [
    "# List"
   ]
  },
  {
   "cell_type": "code",
   "execution_count": 40,
   "id": "65aad4b0",
   "metadata": {},
   "outputs": [],
   "source": [
    "a = []"
   ]
  },
  {
   "cell_type": "code",
   "execution_count": 41,
   "id": "f7e0c1a5",
   "metadata": {},
   "outputs": [
    {
     "name": "stdout",
     "output_type": "stream",
     "text": [
      "<class 'list'>\n"
     ]
    }
   ],
   "source": [
    "print(type(a))"
   ]
  },
  {
   "cell_type": "code",
   "execution_count": 42,
   "id": "04c7fd65",
   "metadata": {},
   "outputs": [],
   "source": [
    "a = ['Saihajpreet', 'Singh', 'Male', '19']"
   ]
  },
  {
   "cell_type": "code",
   "execution_count": 43,
   "id": "9ad0d0ce",
   "metadata": {},
   "outputs": [
    {
     "data": {
      "text/plain": [
       "['Saihajpreet', 'Singh', 'Male', '19']"
      ]
     },
     "execution_count": 43,
     "metadata": {},
     "output_type": "execute_result"
    }
   ],
   "source": [
    "a"
   ]
  },
  {
   "cell_type": "code",
   "execution_count": 44,
   "id": "60cba670",
   "metadata": {},
   "outputs": [],
   "source": [
    "a = ['Saihajpreet', 'Singh', 19, 3465.9, True, range(8), [1, 2, 3]]"
   ]
  },
  {
   "cell_type": "code",
   "execution_count": 45,
   "id": "5b439a7c",
   "metadata": {},
   "outputs": [
    {
     "data": {
      "text/plain": [
       "['Saihajpreet', 'Singh', 19, 3465.9, True, range(0, 8), [1, 2, 3]]"
      ]
     },
     "execution_count": 45,
     "metadata": {},
     "output_type": "execute_result"
    }
   ],
   "source": [
    "a"
   ]
  },
  {
   "cell_type": "code",
   "execution_count": 46,
   "id": "1b2cb234",
   "metadata": {},
   "outputs": [
    {
     "data": {
      "text/plain": [
       "list"
      ]
     },
     "execution_count": 46,
     "metadata": {},
     "output_type": "execute_result"
    }
   ],
   "source": [
    "type(a)"
   ]
  },
  {
   "cell_type": "code",
   "execution_count": 47,
   "id": "1481ca10",
   "metadata": {},
   "outputs": [
    {
     "data": {
      "text/plain": [
       "bool"
      ]
     },
     "execution_count": 47,
     "metadata": {},
     "output_type": "execute_result"
    }
   ],
   "source": [
    "type(a[4])"
   ]
  },
  {
   "cell_type": "code",
   "execution_count": 48,
   "id": "afda0f39",
   "metadata": {},
   "outputs": [
    {
     "data": {
      "text/plain": [
       "float"
      ]
     },
     "execution_count": 48,
     "metadata": {},
     "output_type": "execute_result"
    }
   ],
   "source": [
    "type(a[3])"
   ]
  },
  {
   "cell_type": "code",
   "execution_count": 49,
   "id": "171743c5",
   "metadata": {},
   "outputs": [
    {
     "data": {
      "text/plain": [
       "range"
      ]
     },
     "execution_count": 49,
     "metadata": {},
     "output_type": "execute_result"
    }
   ],
   "source": [
    "type(a[5])"
   ]
  },
  {
   "cell_type": "code",
   "execution_count": 50,
   "id": "028d9fc2",
   "metadata": {},
   "outputs": [
    {
     "name": "stdout",
     "output_type": "stream",
     "text": [
      "a\n"
     ]
    }
   ],
   "source": [
    "b = a[0]\n",
    "print(b[1])"
   ]
  },
  {
   "cell_type": "code",
   "execution_count": 51,
   "id": "72ad8bf6",
   "metadata": {},
   "outputs": [
    {
     "data": {
      "text/plain": [
       "'S'"
      ]
     },
     "execution_count": 51,
     "metadata": {},
     "output_type": "execute_result"
    }
   ],
   "source": [
    "a[0][0]"
   ]
  },
  {
   "cell_type": "code",
   "execution_count": 53,
   "id": "49b98600",
   "metadata": {},
   "outputs": [
    {
     "name": "stdout",
     "output_type": "stream",
     "text": [
      "Saihajpreet\n",
      "Singh\n",
      "19\n",
      "3465.9\n",
      "True\n",
      "range(0, 8)\n",
      "[1, 2, 3]\n"
     ]
    }
   ],
   "source": [
    "for i in a:\n",
    "    print(i)"
   ]
  },
  {
   "cell_type": "code",
   "execution_count": 54,
   "id": "6180e1a4",
   "metadata": {},
   "outputs": [
    {
     "data": {
      "text/plain": [
       "'g'"
      ]
     },
     "execution_count": 54,
     "metadata": {},
     "output_type": "execute_result"
    }
   ],
   "source": [
    "a[1][3]"
   ]
  },
  {
   "cell_type": "code",
   "execution_count": 55,
   "id": "d402e41d",
   "metadata": {},
   "outputs": [
    {
     "data": {
      "text/plain": [
       "'the_man_is_sleeping_on_the_bench'"
      ]
     },
     "execution_count": 55,
     "metadata": {},
     "output_type": "execute_result"
    }
   ],
   "source": [
    "string"
   ]
  },
  {
   "cell_type": "code",
   "execution_count": 57,
   "id": "a880a4d2",
   "metadata": {},
   "outputs": [
    {
     "data": {
      "text/plain": [
       "['the', 'man', 'is', 'sleeping', 'on', 'the', 'bench']"
      ]
     },
     "execution_count": 57,
     "metadata": {},
     "output_type": "execute_result"
    }
   ],
   "source": [
    "string.split('_')"
   ]
  },
  {
   "cell_type": "code",
   "execution_count": 58,
   "id": "fb18c944",
   "metadata": {},
   "outputs": [
    {
     "data": {
      "text/plain": [
       "'is'"
      ]
     },
     "execution_count": 58,
     "metadata": {},
     "output_type": "execute_result"
    }
   ],
   "source": [
    "string.split('_')[2]"
   ]
  },
  {
   "cell_type": "code",
   "execution_count": 59,
   "id": "b34aa0cb",
   "metadata": {},
   "outputs": [
    {
     "data": {
      "text/plain": [
       "['Saihajpreet', 'Singh', 19, 3465.9, True, range(0, 8), [1, 2, 3]]"
      ]
     },
     "execution_count": 59,
     "metadata": {},
     "output_type": "execute_result"
    }
   ],
   "source": [
    "a"
   ]
  },
  {
   "cell_type": "code",
   "execution_count": 60,
   "id": "1fff262a",
   "metadata": {},
   "outputs": [
    {
     "name": "stdout",
     "output_type": "stream",
     "text": [
      "['Saihajpreet', 'Singh', 19, 3465.9, True, range(0, 8), [1, 2, 3], 'handsome']\n"
     ]
    }
   ],
   "source": [
    "a.append('handsome')\n",
    "print(a)"
   ]
  },
  {
   "cell_type": "code",
   "execution_count": 61,
   "id": "4c2ce0dd",
   "metadata": {},
   "outputs": [
    {
     "data": {
      "text/plain": [
       "['coder',\n",
       " 'Saihajpreet',\n",
       " 'Singh',\n",
       " 19,\n",
       " 3465.9,\n",
       " True,\n",
       " range(0, 8),\n",
       " [1, 2, 3],\n",
       " 'handsome']"
      ]
     },
     "execution_count": 61,
     "metadata": {},
     "output_type": "execute_result"
    }
   ],
   "source": [
    "a.insert(0, 'coder')\n",
    "a"
   ]
  },
  {
   "cell_type": "code",
   "execution_count": 62,
   "id": "b8bc8b64",
   "metadata": {},
   "outputs": [
    {
     "name": "stdout",
     "output_type": "stream",
     "text": [
      "['coder', 'Saihajpreet', 'Singh', 19, 3465.9, True, range(0, 8), [1, 2, 3], 'handsome']\n"
     ]
    }
   ],
   "source": [
    "print(a)"
   ]
  },
  {
   "cell_type": "code",
   "execution_count": 63,
   "id": "2590a624",
   "metadata": {},
   "outputs": [],
   "source": [
    "def splitter(string):\n",
    "    temp_str = ''\n",
    "    string_split = []\n",
    "    for i in string:\n",
    "        if i == ' ':\n",
    "            string_split.append(temp_str)\n",
    "            temp_str = ''\n",
    "#             continue\n",
    "        else:\n",
    "            temp_str+=i\n",
    "    string_split.append(temp_str)\n",
    "    print(string_split)"
   ]
  },
  {
   "cell_type": "code",
   "execution_count": 64,
   "id": "22a0aca9",
   "metadata": {},
   "outputs": [
    {
     "name": "stdout",
     "output_type": "stream",
     "text": [
      "['The', 'man', 'is', 'sleeping']\n"
     ]
    }
   ],
   "source": [
    "splitter('The man is sleeping')"
   ]
  },
  {
   "cell_type": "code",
   "execution_count": 65,
   "id": "8da32763",
   "metadata": {},
   "outputs": [
    {
     "data": {
      "text/plain": [
       "'handsome'"
      ]
     },
     "execution_count": 65,
     "metadata": {},
     "output_type": "execute_result"
    }
   ],
   "source": [
    "a.pop()"
   ]
  },
  {
   "cell_type": "code",
   "execution_count": 66,
   "id": "e69c5a9d",
   "metadata": {},
   "outputs": [
    {
     "data": {
      "text/plain": [
       "'coder'"
      ]
     },
     "execution_count": 66,
     "metadata": {},
     "output_type": "execute_result"
    }
   ],
   "source": [
    "a.pop(0)"
   ]
  },
  {
   "cell_type": "code",
   "execution_count": 67,
   "id": "604064c9",
   "metadata": {},
   "outputs": [
    {
     "data": {
      "text/plain": [
       "['Saihajpreet', 'Singh', 19, 3465.9, True, range(0, 8), [1, 2, 3]]"
      ]
     },
     "execution_count": 67,
     "metadata": {},
     "output_type": "execute_result"
    }
   ],
   "source": [
    "a"
   ]
  },
  {
   "cell_type": "code",
   "execution_count": 68,
   "id": "8ff2b61b",
   "metadata": {},
   "outputs": [
    {
     "data": {
      "text/plain": [
       "['Saihajpreet', 'Singh', 19, 3465.9, True, range(0, 8)]"
      ]
     },
     "execution_count": 68,
     "metadata": {},
     "output_type": "execute_result"
    }
   ],
   "source": [
    "a.pop(-1)\n",
    "a"
   ]
  },
  {
   "cell_type": "code",
   "execution_count": 69,
   "id": "7f52b778",
   "metadata": {},
   "outputs": [
    {
     "data": {
      "text/plain": [
       "['Saihajpreet', 'Singh', 19, 3465.9, range(0, 8)]"
      ]
     },
     "execution_count": 69,
     "metadata": {},
     "output_type": "execute_result"
    }
   ],
   "source": [
    "a.pop(-2)\n",
    "a"
   ]
  },
  {
   "cell_type": "code",
   "execution_count": 70,
   "id": "5e22e737",
   "metadata": {},
   "outputs": [],
   "source": [
    "a.append([1, 2, 3, 4, 5])"
   ]
  },
  {
   "cell_type": "code",
   "execution_count": 71,
   "id": "8f902958",
   "metadata": {},
   "outputs": [
    {
     "data": {
      "text/plain": [
       "['Saihajpreet', 'Singh', 19, 3465.9, range(0, 8), [1, 2, 3, 4, 5]]"
      ]
     },
     "execution_count": 71,
     "metadata": {},
     "output_type": "execute_result"
    }
   ],
   "source": [
    "a"
   ]
  },
  {
   "cell_type": "code",
   "execution_count": 72,
   "id": "72689aeb",
   "metadata": {},
   "outputs": [
    {
     "data": {
      "text/plain": [
       "['Saihajpreet', 'Singh', 19, 3465.9, True, range(0, 8), [1, 2, 3, 4, 5]]"
      ]
     },
     "execution_count": 72,
     "metadata": {},
     "output_type": "execute_result"
    }
   ],
   "source": [
    "a.insert(4, True)\n",
    "a"
   ]
  },
  {
   "cell_type": "code",
   "execution_count": 73,
   "id": "73f89349",
   "metadata": {},
   "outputs": [],
   "source": [
    "a.remove('Saihajpreet')"
   ]
  },
  {
   "cell_type": "code",
   "execution_count": 74,
   "id": "dc04c67a",
   "metadata": {},
   "outputs": [
    {
     "data": {
      "text/plain": [
       "['Singh', 19, 3465.9, True, range(0, 8), [1, 2, 3, 4, 5]]"
      ]
     },
     "execution_count": 74,
     "metadata": {},
     "output_type": "execute_result"
    }
   ],
   "source": [
    "a"
   ]
  },
  {
   "cell_type": "code",
   "execution_count": 75,
   "id": "240110a1",
   "metadata": {},
   "outputs": [],
   "source": [
    "arr = [1,2,3,5,23,3465,124,768,1,0,33,44,10,5]"
   ]
  },
  {
   "cell_type": "code",
   "execution_count": 76,
   "id": "0ac25a62",
   "metadata": {},
   "outputs": [],
   "source": [
    "arr.reverse()"
   ]
  },
  {
   "cell_type": "code",
   "execution_count": 77,
   "id": "07b2e3cd",
   "metadata": {},
   "outputs": [
    {
     "data": {
      "text/plain": [
       "[5, 10, 44, 33, 0, 1, 768, 124, 3465, 23, 5, 3, 2, 1]"
      ]
     },
     "execution_count": 77,
     "metadata": {},
     "output_type": "execute_result"
    }
   ],
   "source": [
    "arr"
   ]
  },
  {
   "cell_type": "code",
   "execution_count": 78,
   "id": "de18c6ce",
   "metadata": {},
   "outputs": [
    {
     "data": {
      "text/plain": [
       "14"
      ]
     },
     "execution_count": 78,
     "metadata": {},
     "output_type": "execute_result"
    }
   ],
   "source": [
    "len(arr)"
   ]
  },
  {
   "cell_type": "code",
   "execution_count": 79,
   "id": "0ed64437",
   "metadata": {},
   "outputs": [],
   "source": [
    "def rev(arr):\n",
    "    temp_arr = []\n",
    "    for i in range(len(arr)):\n",
    "        temp_arr.append(arr[i - len(arr)])\n",
    "    print(temp_arr)"
   ]
  },
  {
   "cell_type": "code",
   "execution_count": 80,
   "id": "5f322468",
   "metadata": {},
   "outputs": [
    {
     "name": "stdout",
     "output_type": "stream",
     "text": [
      "[5, 10, 44, 33, 0, 1, 768, 124, 3465, 23, 5, 3, 2, 1]\n"
     ]
    }
   ],
   "source": [
    "rev(arr)"
   ]
  },
  {
   "cell_type": "code",
   "execution_count": 81,
   "id": "7a94f22d",
   "metadata": {},
   "outputs": [
    {
     "data": {
      "text/plain": [
       "[0, 1, 1, 2, 3, 5, 5, 10, 23, 33, 44, 124, 768, 3465]"
      ]
     },
     "execution_count": 81,
     "metadata": {},
     "output_type": "execute_result"
    }
   ],
   "source": [
    "sorted(arr, reverse = False)"
   ]
  },
  {
   "cell_type": "code",
   "execution_count": 82,
   "id": "816b4728",
   "metadata": {},
   "outputs": [
    {
     "data": {
      "text/plain": [
       "[3465, 768, 124, 44, 33, 23, 10, 5, 5, 3, 2, 1, 1, 0]"
      ]
     },
     "execution_count": 82,
     "metadata": {},
     "output_type": "execute_result"
    }
   ],
   "source": [
    "sorted(arr, reverse = True)"
   ]
  },
  {
   "cell_type": "code",
   "execution_count": 84,
   "id": "bd5fa201",
   "metadata": {},
   "outputs": [],
   "source": [
    "# sorted? -> to read docstring"
   ]
  },
  {
   "cell_type": "code",
   "execution_count": 85,
   "id": "6f3dbcfa",
   "metadata": {},
   "outputs": [
    {
     "name": "stdout",
     "output_type": "stream",
     "text": [
      "[[1, 2, 3, 4, 5], range(0, 8), True, 3465.9, 19, 'Singh']\n"
     ]
    }
   ],
   "source": [
    "a.reverse()\n",
    "print(a)\n",
    "# print(sorted(a))"
   ]
  },
  {
   "cell_type": "code",
   "execution_count": 86,
   "id": "c0975786",
   "metadata": {},
   "outputs": [],
   "source": [
    "a.reverse()"
   ]
  },
  {
   "cell_type": "code",
   "execution_count": 87,
   "id": "74bc370c",
   "metadata": {},
   "outputs": [
    {
     "data": {
      "text/plain": [
       "['Singh', 19, 3465.9, True, range(0, 8), [1, 2, 3, 4, 5]]"
      ]
     },
     "execution_count": 87,
     "metadata": {},
     "output_type": "execute_result"
    }
   ],
   "source": [
    "a"
   ]
  },
  {
   "cell_type": "code",
   "execution_count": null,
   "id": "c35b54ed",
   "metadata": {},
   "outputs": [],
   "source": []
  }
 ],
 "metadata": {
  "kernelspec": {
   "display_name": "Python 3 (ipykernel)",
   "language": "python",
   "name": "python3"
  },
  "language_info": {
   "codemirror_mode": {
    "name": "ipython",
    "version": 3
   },
   "file_extension": ".py",
   "mimetype": "text/x-python",
   "name": "python",
   "nbconvert_exporter": "python",
   "pygments_lexer": "ipython3",
   "version": "3.10.8"
  }
 },
 "nbformat": 4,
 "nbformat_minor": 5
}
