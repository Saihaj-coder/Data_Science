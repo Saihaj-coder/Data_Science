{
 "cells": [
  {
   "cell_type": "code",
   "execution_count": 4,
   "id": "19057f39",
   "metadata": {},
   "outputs": [],
   "source": [
    "import requests\n",
    "from bs4 import BeautifulSoup\n",
    "import pandas as pd"
   ]
  },
  {
   "cell_type": "code",
   "execution_count": 2,
   "id": "03c2cf59",
   "metadata": {},
   "outputs": [],
   "source": [
    "Names = []\n",
    "Prices = []\n",
    "Desc = []\n",
    "Reviews = []"
   ]
  },
  {
   "cell_type": "code",
   "execution_count": 7,
   "id": "bcccb915",
   "metadata": {},
   "outputs": [
    {
     "name": "stdout",
     "output_type": "stream",
     "text": [
      "48\n",
      "48\n",
      "48\n",
      "48\n",
      "72\n",
      "72\n",
      "72\n",
      "72\n",
      "96\n",
      "96\n",
      "96\n",
      "96\n",
      "120\n",
      "120\n",
      "120\n",
      "120\n",
      "144\n",
      "144\n",
      "144\n",
      "144\n"
     ]
    }
   ],
   "source": [
    "for i in range(1, 6):\n",
    "    url = \"https://www.flipkart.com/search?q=mobiles+under+50000&otracker=search&otracker1=search&marketplace=FLIPKART&as-show=on&as=off&as-pos=1&as-type=HISTORY\"+str(i)\n",
    "\n",
    "    r = requests.get(url)\n",
    "\n",
    "    soup = BeautifulSoup(r.text, 'html.parser')\n",
    "    box = soup.find(\"div\", class_ = \"_1YokD2 _3Mn1Gg\")\n",
    "\n",
    "    names = box.find_all(\"div\", class_ = \"_4rR01T\")\n",
    "\n",
    "    for i in names:\n",
    "        n = i.text\n",
    "        Names.append(n)\n",
    "    print(len(Names))\n",
    "    \n",
    "    prices = box.find_all(\"div\", class_ = \"_30jeq3 _1_WHN1\")\n",
    "\n",
    "    for i in prices:\n",
    "        p = i.text\n",
    "        Prices.append(p)\n",
    "    print(len(Prices))\n",
    "    \n",
    "    desc = box.find_all(\"ul\", class_ = \"_1xgFaf\")\n",
    "\n",
    "    for i in desc:\n",
    "        d = i.text\n",
    "        Desc.append(d)\n",
    "    print(len(Desc))\n",
    "    \n",
    "    reviews = box.find_all(\"div\", class_ = \"_3LWZlK\")\n",
    "\n",
    "    for i in reviews:\n",
    "        r = i.text\n",
    "        Reviews.append(r)\n",
    "    print(len(Reviews))        \n"
   ]
  },
  {
   "cell_type": "code",
   "execution_count": 8,
   "id": "3b35d458",
   "metadata": {},
   "outputs": [
    {
     "name": "stdout",
     "output_type": "stream",
     "text": [
      "                                      Product name Product prices  \\\n",
      "0             OnePlus 11R 5G (Sonic Black, 256 GB)        ₹44,037   \n",
      "1                  APPLE iPhone 11 (Black, 128 GB)        ₹45,199   \n",
      "2                  APPLE iPhone 11 (White, 128 GB)        ₹45,199   \n",
      "3                                      Cellecor E3         ₹1,061   \n",
      "4             vivo V27 Pro 5G (Magic Blue, 256 GB)        ₹42,999   \n",
      "..                                             ...            ...   \n",
      "139              Mi 10T Pro (Cosmic Black, 128 GB)        ₹47,999   \n",
      "140            OnePlus 10T 5G (Jade Green, 128 GB)        ₹44,999   \n",
      "141                  APPLE iPhone 11 (Red, 128 GB)        ₹47,199   \n",
      "142   SAMSUNG Galaxy A73 5G (Awesome Gray, 128 GB)        ₹41,999   \n",
      "143  SAMSUNG Galaxy S22 5G (Phantom Black, 128 GB)        ₹49,999   \n",
      "\n",
      "                                   Product Description Product reviews  \n",
      "0    16 GB RAM | 256 GB ROM17.02 cm (6.7 inch) Disp...             4.6  \n",
      "1    128 GB ROM15.49 cm (6.1 inch) Liquid Retina HD...             4.6  \n",
      "2    128 GB ROM15.49 cm (6.1 inch) Liquid Retina HD...             4.6  \n",
      "3    32 MB RAM | 32 MB ROM | Expandable Upto 32 GB4...             3.6  \n",
      "4    12 GB RAM | 256 GB ROM17.22 cm (6.78 inch) Ful...             4.5  \n",
      "..                                                 ...             ...  \n",
      "139  8 GB RAM | 128 GB ROM16.94 cm (6.67 inch) Full...             4.2  \n",
      "140  8 GB RAM | 128 GB ROM17.02 cm (6.7 inch) Displ...             4.3  \n",
      "141  128 GB ROM15.49 cm (6.1 inch) Liquid Retina HD...             4.6  \n",
      "142  8 GB RAM | 128 GB ROM | Expandable Upto 1 TB17...             4.2  \n",
      "143  8 GB RAM | 128 GB ROM15.49 cm (6.1 inch) Full ...             4.3  \n",
      "\n",
      "[144 rows x 4 columns]\n"
     ]
    }
   ],
   "source": [
    "df = pd.DataFrame({\"Product name\":Names, \"Product prices\":Prices, \"Product Description\":Desc, \"Product reviews\":Reviews})\n",
    "print(df)"
   ]
  },
  {
   "cell_type": "code",
   "execution_count": null,
   "id": "60b032af",
   "metadata": {},
   "outputs": [],
   "source": []
  }
 ],
 "metadata": {
  "kernelspec": {
   "display_name": "Python 3 (ipykernel)",
   "language": "python",
   "name": "python3"
  },
  "language_info": {
   "codemirror_mode": {
    "name": "ipython",
    "version": 3
   },
   "file_extension": ".py",
   "mimetype": "text/x-python",
   "name": "python",
   "nbconvert_exporter": "python",
   "pygments_lexer": "ipython3",
   "version": "3.10.8"
  }
 },
 "nbformat": 4,
 "nbformat_minor": 5
}
