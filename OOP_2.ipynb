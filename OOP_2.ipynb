{
 "cells": [
  {
   "cell_type": "code",
   "execution_count": 1,
   "id": "d42aa819",
   "metadata": {},
   "outputs": [],
   "source": [
    "# Inheritance"
   ]
  },
  {
   "cell_type": "code",
   "execution_count": 2,
   "id": "1602cee8",
   "metadata": {},
   "outputs": [],
   "source": [
    "class School_Members:\n",
    "    \n",
    "    def __init__(self, name, age):\n",
    "        self.name = name\n",
    "        self.age = age\n",
    "        print(f\"Initialised School Member: {self.name}\")\n",
    "        \n",
    "    def tell(self):\n",
    "        print(f\"Name: {self.name}, Age: {self.age}\")\n",
    "        \n",
    "    \n",
    "class Teachers(School_Members):\n",
    "    \n",
    "    def __init__(self, teacher_name, teacher_age, teacher_salary):\n",
    "        School_Members.__init__(self, teacher_name, teacher_age)\n",
    "        self.salary = teacher_salary\n",
    "        print(f\"Initialised Teacher: {self.name}\")\n",
    "        \n",
    "    def tell(self):\n",
    "        School_Members.tell(self)\n",
    "        print(f\"Salary: {self.salary}\")\n",
    "        \n",
    "class Students(School_Members):\n",
    "    \n",
    "    def __init__(self, student_name, student_age, student_marks):\n",
    "        School_Members.__init__(self, student_name, student_age)\n",
    "        self.marks = student_marks\n",
    "        print(f\"Initialised Student: {self.name}\")\n",
    "        \n",
    "    def tell(self):\n",
    "        School_Members.tell(self)\n",
    "        print(f\"Marks: {self.marks}\")"
   ]
  },
  {
   "cell_type": "code",
   "execution_count": 3,
   "id": "a59808af",
   "metadata": {},
   "outputs": [
    {
     "name": "stdout",
     "output_type": "stream",
     "text": [
      "Initialised School Member: Abhijeet\n",
      "Initialised Teacher: Abhijeet\n",
      "Initialised School Member: Aamir\n",
      "Initialised Student: Aamir\n"
     ]
    }
   ],
   "source": [
    "t = Teachers('Abhijeet', 22, 1000)\n",
    "s = Students('Aamir', 19, 75)"
   ]
  },
  {
   "cell_type": "code",
   "execution_count": 4,
   "id": "7511ac02",
   "metadata": {},
   "outputs": [
    {
     "name": "stdout",
     "output_type": "stream",
     "text": [
      "Name: Abhijeet, Age: 22\n",
      "Salary: 1000\n",
      "Name: Aamir, Age: 19\n",
      "Marks: 75\n"
     ]
    }
   ],
   "source": [
    "t.tell()\n",
    "s.tell()"
   ]
  },
  {
   "cell_type": "code",
   "execution_count": 5,
   "id": "ce2b7314",
   "metadata": {},
   "outputs": [
    {
     "name": "stdout",
     "output_type": "stream",
     "text": [
      "In class 4\n",
      "Next\n",
      "In class 3\n"
     ]
    }
   ],
   "source": [
    "class Class1:\n",
    "    \n",
    "    def m(self):\n",
    "        print(\"In class 1\")\n",
    "        \n",
    "class Class2(Class1):\n",
    "    \n",
    "    def m(self):\n",
    "        print(\"In class 2\")\n",
    "#     pass\n",
    "    \n",
    "class Class3(Class1):\n",
    "    \n",
    "    def m(self):\n",
    "        print(\"In class 3\")\n",
    "        \n",
    "class Class4(Class3, Class2):\n",
    "    \n",
    "    print(\"In class 4\")\n",
    "    pass\n",
    "\n",
    "obj = Class4()\n",
    "print('Next')\n",
    "obj.m()"
   ]
  },
  {
   "cell_type": "code",
   "execution_count": 6,
   "id": "964a4f06",
   "metadata": {},
   "outputs": [
    {
     "name": "stdout",
     "output_type": "stream",
     "text": [
      "In class 2\n"
     ]
    }
   ],
   "source": [
    "Class2.m(obj)"
   ]
  },
  {
   "cell_type": "code",
   "execution_count": 7,
   "id": "84e423b6",
   "metadata": {},
   "outputs": [
    {
     "name": "stdout",
     "output_type": "stream",
     "text": [
      "0\n",
      "1\n",
      "2\n",
      "3\n"
     ]
    }
   ],
   "source": [
    "a = 10\n",
    "for i in range(5):\n",
    "    print(i)\n",
    "    if a==10:\n",
    "        pass\n",
    "    if i==3:\n",
    "        a = 0\n",
    "    if (a!=10):\n",
    "        break"
   ]
  },
  {
   "cell_type": "code",
   "execution_count": 8,
   "id": "fe4fcafd",
   "metadata": {},
   "outputs": [],
   "source": [
    "for i in range(50):\n",
    "    pass"
   ]
  },
  {
   "cell_type": "code",
   "execution_count": 9,
   "id": "6c5487b9",
   "metadata": {},
   "outputs": [],
   "source": [
    "def adder(a, b, *args):\n",
    "    print(a + b)\n",
    "    for i in args:\n",
    "        print(i)"
   ]
  },
  {
   "cell_type": "code",
   "execution_count": 10,
   "id": "46e5b944",
   "metadata": {},
   "outputs": [
    {
     "name": "stdout",
     "output_type": "stream",
     "text": [
      "30\n",
      "22\n",
      "99\n"
     ]
    }
   ],
   "source": [
    "adder(10, 20, 22, 99)"
   ]
  },
  {
   "cell_type": "code",
   "execution_count": 11,
   "id": "82a07839",
   "metadata": {},
   "outputs": [],
   "source": [
    "class Best_friend:\n",
    "    \n",
    "    best_friends = {}\n",
    "    \n",
    "    def __init__(self, name):\n",
    "        self.best_friends[str(name)] = []\n",
    "        \n",
    "    def add_best_friend(self, name, name_best_friend):\n",
    "        self.best_friends[str(name)].append(name_best_friend)\n",
    "\n",
    "class Person(Best_friend):\n",
    "    \n",
    "    def __init__(self, name, age):\n",
    "        super().__init__(name)\n",
    "        self.name = name\n",
    "        self.age = age\n",
    "        \n",
    "    def my_best_friend(self, best_friend):\n",
    "        super().add_best_friend(self.name, best_friend)"
   ]
  },
  {
   "cell_type": "code",
   "execution_count": 12,
   "id": "727e8c2e",
   "metadata": {},
   "outputs": [],
   "source": [
    "a = Person(\"Abhijeet\", 22)\n",
    "b = Person('Aamir', 19)\n",
    "c = Person('Rohit', 25)"
   ]
  },
  {
   "cell_type": "code",
   "execution_count": 13,
   "id": "5c678828",
   "metadata": {},
   "outputs": [
    {
     "data": {
      "text/plain": [
       "'Rohit'"
      ]
     },
     "execution_count": 13,
     "metadata": {},
     "output_type": "execute_result"
    }
   ],
   "source": [
    "c.name"
   ]
  },
  {
   "cell_type": "code",
   "execution_count": 14,
   "id": "59775dff",
   "metadata": {},
   "outputs": [],
   "source": [
    "a.my_best_friend(c.name)"
   ]
  },
  {
   "cell_type": "code",
   "execution_count": 15,
   "id": "58fbd0bb",
   "metadata": {},
   "outputs": [
    {
     "data": {
      "text/plain": [
       "{'Abhijeet': ['Rohit'], 'Aamir': [], 'Rohit': []}"
      ]
     },
     "execution_count": 15,
     "metadata": {},
     "output_type": "execute_result"
    }
   ],
   "source": [
    "a.best_friends"
   ]
  },
  {
   "cell_type": "code",
   "execution_count": 16,
   "id": "52fcbb3d",
   "metadata": {},
   "outputs": [],
   "source": [
    "b.my_best_friend('Sahil')"
   ]
  },
  {
   "cell_type": "code",
   "execution_count": 17,
   "id": "fa349c93",
   "metadata": {},
   "outputs": [
    {
     "data": {
      "text/plain": [
       "{'Abhijeet': ['Rohit'], 'Aamir': ['Sahil'], 'Rohit': []}"
      ]
     },
     "execution_count": 17,
     "metadata": {},
     "output_type": "execute_result"
    }
   ],
   "source": [
    "b.best_friends"
   ]
  },
  {
   "cell_type": "code",
   "execution_count": 18,
   "id": "4797b463",
   "metadata": {},
   "outputs": [],
   "source": [
    "a.my_best_friend(b.name)"
   ]
  },
  {
   "cell_type": "code",
   "execution_count": 19,
   "id": "b88e53e9",
   "metadata": {},
   "outputs": [
    {
     "data": {
      "text/plain": [
       "{'Abhijeet': ['Rohit', 'Aamir'], 'Aamir': ['Sahil'], 'Rohit': []}"
      ]
     },
     "execution_count": 19,
     "metadata": {},
     "output_type": "execute_result"
    }
   ],
   "source": [
    "a.best_friends"
   ]
  },
  {
   "cell_type": "code",
   "execution_count": 20,
   "id": "8c0d5f9f",
   "metadata": {},
   "outputs": [
    {
     "data": {
      "text/plain": [
       "{'Abhijeet': ['Rohit', 'Aamir'], 'Aamir': ['Sahil'], 'Rohit': []}"
      ]
     },
     "execution_count": 20,
     "metadata": {},
     "output_type": "execute_result"
    }
   ],
   "source": [
    "b.best_friends"
   ]
  },
  {
   "cell_type": "code",
   "execution_count": 21,
   "id": "43c58d98",
   "metadata": {},
   "outputs": [
    {
     "name": "stdout",
     "output_type": "stream",
     "text": [
      "1430298166784 1430298166784\n"
     ]
    }
   ],
   "source": [
    "print(id(a.best_friends), id(b.best_friends))"
   ]
  },
  {
   "cell_type": "code",
   "execution_count": 22,
   "id": "fdcc0e56",
   "metadata": {},
   "outputs": [
    {
     "name": "stdout",
     "output_type": "stream",
     "text": [
      "Best friends of Abhijeet---> ['Rohit', 'Aamir']\n"
     ]
    }
   ],
   "source": [
    "print(\"Best friends of Abhijeet--->\", a.best_friends[a.name])"
   ]
  },
  {
   "cell_type": "code",
   "execution_count": null,
   "id": "f3f2c87f",
   "metadata": {},
   "outputs": [],
   "source": []
  }
 ],
 "metadata": {
  "kernelspec": {
   "display_name": "Python 3 (ipykernel)",
   "language": "python",
   "name": "python3"
  },
  "language_info": {
   "codemirror_mode": {
    "name": "ipython",
    "version": 3
   },
   "file_extension": ".py",
   "mimetype": "text/x-python",
   "name": "python",
   "nbconvert_exporter": "python",
   "pygments_lexer": "ipython3",
   "version": "3.10.8"
  }
 },
 "nbformat": 4,
 "nbformat_minor": 5
}
