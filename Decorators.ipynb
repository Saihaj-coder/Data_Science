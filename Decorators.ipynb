{
 "cells": [
  {
   "cell_type": "code",
   "execution_count": 1,
   "id": "e48377d1",
   "metadata": {},
   "outputs": [],
   "source": [
    "users = {\n",
    "    'Abhijeet': 'password',\n",
    "    'Rohit': 'coding blocks'\n",
    "}"
   ]
  },
  {
   "cell_type": "code",
   "execution_count": 2,
   "id": "0b987eb2",
   "metadata": {},
   "outputs": [
    {
     "data": {
      "text/plain": [
       "'coding blocks'"
      ]
     },
     "execution_count": 2,
     "metadata": {},
     "output_type": "execute_result"
    }
   ],
   "source": [
    "users['Rohit']"
   ]
  },
  {
   "cell_type": "code",
   "execution_count": 3,
   "id": "f611c385",
   "metadata": {},
   "outputs": [],
   "source": [
    "def show(username, password):\n",
    "    \n",
    "    if username in users and users[username] == password:\n",
    "        print(\"Hello World, You are authenticated\")\n",
    "        \n",
    "    else:\n",
    "        print(\"Not authenticated\")"
   ]
  },
  {
   "cell_type": "code",
   "execution_count": 4,
   "id": "41af867c",
   "metadata": {},
   "outputs": [
    {
     "name": "stdout",
     "output_type": "stream",
     "text": [
      "Not authenticated\n"
     ]
    }
   ],
   "source": [
    "show('Rohit', 'password')"
   ]
  },
  {
   "cell_type": "code",
   "execution_count": 5,
   "id": "e47a17fa",
   "metadata": {},
   "outputs": [],
   "source": [
    "def add(username, password, a, b):\n",
    "    if username in users and users[username] == password:\n",
    "        print(a+b)\n",
    "        \n",
    "    else:\n",
    "        print(\"Not authenticated\")"
   ]
  },
  {
   "cell_type": "code",
   "execution_count": 6,
   "id": "a899aa4f",
   "metadata": {},
   "outputs": [
    {
     "name": "stdout",
     "output_type": "stream",
     "text": [
      "3\n"
     ]
    }
   ],
   "source": [
    "add('Rohit', 'coding blocks', 1, 2)"
   ]
  },
  {
   "cell_type": "code",
   "execution_count": 7,
   "id": "3bd521e9",
   "metadata": {},
   "outputs": [],
   "source": [
    "def add(a, b):\n",
    "    print(a+b)"
   ]
  },
  {
   "cell_type": "code",
   "execution_count": 8,
   "id": "c47c32f2",
   "metadata": {},
   "outputs": [],
   "source": [
    "def login_requ(func):\n",
    "    def wrapper(username, password, *args, **kwargs):\n",
    "        if username in users and users[username] == password:\n",
    "#             user authenticated\n",
    "            func(*args, **kwargs)\n",
    "        else:\n",
    "            print(\"Not Authenticated\")\n",
    "    \n",
    "    return wrapper"
   ]
  },
  {
   "cell_type": "code",
   "execution_count": 9,
   "id": "685c1e25",
   "metadata": {},
   "outputs": [
    {
     "name": "stdout",
     "output_type": "stream",
     "text": [
      "<function add at 0x0000023013839000>\n"
     ]
    }
   ],
   "source": [
    "print(add)"
   ]
  },
  {
   "cell_type": "code",
   "execution_count": 10,
   "id": "a7d5588f",
   "metadata": {},
   "outputs": [
    {
     "name": "stdout",
     "output_type": "stream",
     "text": [
      "3\n"
     ]
    }
   ],
   "source": [
    "add(1, 2)"
   ]
  },
  {
   "cell_type": "code",
   "execution_count": 11,
   "id": "63261583",
   "metadata": {},
   "outputs": [],
   "source": [
    "protec_add = login_requ(add)"
   ]
  },
  {
   "cell_type": "code",
   "execution_count": 12,
   "id": "466bb86d",
   "metadata": {},
   "outputs": [],
   "source": [
    "temp = print"
   ]
  },
  {
   "cell_type": "code",
   "execution_count": 13,
   "id": "37e992f3",
   "metadata": {},
   "outputs": [
    {
     "name": "stdout",
     "output_type": "stream",
     "text": [
      "Hello world\n"
     ]
    }
   ],
   "source": [
    "temp(\"Hello world\")"
   ]
  },
  {
   "cell_type": "code",
   "execution_count": 14,
   "id": "451f9c17",
   "metadata": {},
   "outputs": [
    {
     "name": "stdout",
     "output_type": "stream",
     "text": [
      "3\n"
     ]
    }
   ],
   "source": [
    "protec_add('Abhijeet', 'password', 1, 2)"
   ]
  },
  {
   "cell_type": "code",
   "execution_count": 15,
   "id": "0659de03",
   "metadata": {},
   "outputs": [
    {
     "name": "stdout",
     "output_type": "stream",
     "text": [
      "Not Authenticated\n"
     ]
    }
   ],
   "source": [
    "protec_add('sjdbfajshb', 'password', 1, 2)"
   ]
  },
  {
   "cell_type": "code",
   "execution_count": 16,
   "id": "927ab2d5",
   "metadata": {},
   "outputs": [],
   "source": [
    "add = login_requ(add)"
   ]
  },
  {
   "cell_type": "code",
   "execution_count": 17,
   "id": "e164601b",
   "metadata": {},
   "outputs": [
    {
     "name": "stdout",
     "output_type": "stream",
     "text": [
      "112\n"
     ]
    }
   ],
   "source": [
    "add('Rohit', 'coding blocks', 90, 22)"
   ]
  },
  {
   "cell_type": "code",
   "execution_count": 20,
   "id": "179cda83",
   "metadata": {},
   "outputs": [],
   "source": [
    "def add(a, b):\n",
    "    print(a+b)\n",
    "add = login_requ(add)"
   ]
  },
  {
   "cell_type": "code",
   "execution_count": 18,
   "id": "087beef8",
   "metadata": {},
   "outputs": [],
   "source": [
    "# Equivalent code"
   ]
  },
  {
   "cell_type": "code",
   "execution_count": 19,
   "id": "bb6f99e0",
   "metadata": {},
   "outputs": [],
   "source": [
    "@login_requ\n",
    "def add(a, b):\n",
    "    print(a+b)"
   ]
  },
  {
   "cell_type": "code",
   "execution_count": 21,
   "id": "7b944f44",
   "metadata": {},
   "outputs": [
    {
     "name": "stdout",
     "output_type": "stream",
     "text": [
      "51\n"
     ]
    }
   ],
   "source": [
    "add('Abhijeet', 'password', 29, 22)"
   ]
  },
  {
   "cell_type": "code",
   "execution_count": 22,
   "id": "4b8d75ea",
   "metadata": {},
   "outputs": [],
   "source": [
    "def temp(a, b, *args, **kwargs):\n",
    "    print(a, b)\n",
    "    print(args)\n",
    "    print(kwargs)"
   ]
  },
  {
   "cell_type": "code",
   "execution_count": 23,
   "id": "15256df7",
   "metadata": {},
   "outputs": [
    {
     "name": "stdout",
     "output_type": "stream",
     "text": [
      "1 44\n",
      "(22, 77, 344, 33)\n",
      "{'name': 'Abhijeet'}\n"
     ]
    }
   ],
   "source": [
    "temp(1, 44, 22, 77, 344, 33, name = 'Abhijeet')"
   ]
  },
  {
   "cell_type": "code",
   "execution_count": 24,
   "id": "526f8f68",
   "metadata": {},
   "outputs": [
    {
     "name": "stdout",
     "output_type": "stream",
     "text": [
      "Enter n:4\n",
      "Name:Saihajpreet Singh\n",
      "Roll no.:93\n",
      "Branch:ECE\n",
      "Name:Satyam\n",
      "Roll no.:111\n",
      "Branch:IT\n",
      "Name:Arjun\n",
      "Roll no.:91\n",
      "Branch:ECE\n",
      "Name:Sid\n",
      "Roll no.:113\n",
      "Branch:CSE\n"
     ]
    }
   ],
   "source": [
    "num = input('Enter n:')\n",
    "student = []\n",
    "for i in range(int(num)):\n",
    "    name = input('Name:')\n",
    "    roll = int(input('Roll no.:'))\n",
    "    branch = input('Branch:')\n",
    "    student.append({\n",
    "        'name': name, \n",
    "        'roll': roll,\n",
    "        'branch': branch\n",
    "    })"
   ]
  },
  {
   "cell_type": "code",
   "execution_count": 25,
   "id": "6e605446",
   "metadata": {},
   "outputs": [
    {
     "data": {
      "text/plain": [
       "[{'name': 'Saihajpreet Singh', 'roll': 93, 'branch': 'ECE'},\n",
       " {'name': 'Satyam', 'roll': 111, 'branch': 'IT'},\n",
       " {'name': 'Arjun', 'roll': 91, 'branch': 'ECE'},\n",
       " {'name': 'Sid', 'roll': 113, 'branch': 'CSE'}]"
      ]
     },
     "execution_count": 25,
     "metadata": {},
     "output_type": "execute_result"
    }
   ],
   "source": [
    "student"
   ]
  },
  {
   "cell_type": "code",
   "execution_count": null,
   "id": "0d395da5",
   "metadata": {},
   "outputs": [],
   "source": []
  }
 ],
 "metadata": {
  "kernelspec": {
   "display_name": "Python 3 (ipykernel)",
   "language": "python",
   "name": "python3"
  },
  "language_info": {
   "codemirror_mode": {
    "name": "ipython",
    "version": 3
   },
   "file_extension": ".py",
   "mimetype": "text/x-python",
   "name": "python",
   "nbconvert_exporter": "python",
   "pygments_lexer": "ipython3",
   "version": "3.10.8"
  }
 },
 "nbformat": 4,
 "nbformat_minor": 5
}
