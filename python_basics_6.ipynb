{
 "cells": [
  {
   "cell_type": "code",
   "execution_count": 1,
   "id": "3dab4607",
   "metadata": {},
   "outputs": [
    {
     "name": "stdout",
     "output_type": "stream",
     "text": [
      "1 2 3 4 Saihaj 1234 10 29 True [1, '2']\n"
     ]
    }
   ],
   "source": [
    "print(1,2,3,4,'Saihaj','1234',10, 29, True, [1,'2'])"
   ]
  },
  {
   "cell_type": "code",
   "execution_count": 2,
   "id": "0ea6dbf1",
   "metadata": {},
   "outputs": [
    {
     "name": "stdout",
     "output_type": "stream",
     "text": [
      "10\n",
      "13\n",
      "16\n",
      "19\n"
     ]
    }
   ],
   "source": [
    "for i in range(10, 20, 3):\n",
    "    print(i)"
   ]
  },
  {
   "cell_type": "code",
   "execution_count": 3,
   "id": "a9c54b3b",
   "metadata": {},
   "outputs": [],
   "source": [
    "def adder(a, b):\n",
    "    return a+b"
   ]
  },
  {
   "cell_type": "code",
   "execution_count": 4,
   "id": "7727894f",
   "metadata": {},
   "outputs": [
    {
     "data": {
      "text/plain": [
       "3"
      ]
     },
     "execution_count": 4,
     "metadata": {},
     "output_type": "execute_result"
    }
   ],
   "source": [
    "adder(1, 2)"
   ]
  },
  {
   "cell_type": "code",
   "execution_count": 5,
   "id": "e78b3bfb",
   "metadata": {},
   "outputs": [],
   "source": [
    "# *Args and **Kwargs"
   ]
  },
  {
   "cell_type": "code",
   "execution_count": 6,
   "id": "4ff005c8",
   "metadata": {},
   "outputs": [],
   "source": [
    "def adder(a, b, c, *args):\n",
    "    print(a+b+c)\n",
    "    print(args)"
   ]
  },
  {
   "cell_type": "code",
   "execution_count": 7,
   "id": "77ea66be",
   "metadata": {},
   "outputs": [
    {
     "name": "stdout",
     "output_type": "stream",
     "text": [
      "6\n",
      "(10, 29, 22, 80, 99)\n"
     ]
    }
   ],
   "source": [
    "adder(1,2,3, 10, 29, 22, 80, 99)"
   ]
  },
  {
   "cell_type": "code",
   "execution_count": 8,
   "id": "7bedf2f2",
   "metadata": {},
   "outputs": [],
   "source": [
    "def adder(a, b, *args):\n",
    "    a += b\n",
    "    for i in args:\n",
    "        a += i\n",
    "    print(a)"
   ]
  },
  {
   "cell_type": "code",
   "execution_count": 9,
   "id": "7c34dad0",
   "metadata": {},
   "outputs": [
    {
     "name": "stdout",
     "output_type": "stream",
     "text": [
      "246\n"
     ]
    }
   ],
   "source": [
    "adder(1, 2, 3, 10, 29, 22, 80, 99)"
   ]
  },
  {
   "cell_type": "code",
   "execution_count": 10,
   "id": "f2833cd1",
   "metadata": {},
   "outputs": [],
   "source": [
    "def printer(*args):\n",
    "    for i in args:\n",
    "        print(i)"
   ]
  },
  {
   "cell_type": "code",
   "execution_count": 11,
   "id": "7d305cd7",
   "metadata": {},
   "outputs": [
    {
     "name": "stdout",
     "output_type": "stream",
     "text": [
      "1\n",
      "2\n",
      "3\n",
      "10\n",
      "29\n",
      "22\n",
      "80\n",
      "99\n"
     ]
    }
   ],
   "source": [
    "printer(1,2,3, 10, 29, 22, 80, 99)"
   ]
  },
  {
   "cell_type": "code",
   "execution_count": 12,
   "id": "85621d66",
   "metadata": {},
   "outputs": [
    {
     "name": "stdout",
     "output_type": "stream",
     "text": [
      "1\n",
      "2\n",
      "3\n",
      "10\n",
      "29\n",
      "22\n",
      "80\n",
      "99\n"
     ]
    }
   ],
   "source": [
    "def printer(*saihaj):\n",
    "    for i in saihaj:\n",
    "        print(i)\n",
    "printer(1,2,3, 10, 29, 22, 80, 99)"
   ]
  },
  {
   "cell_type": "code",
   "execution_count": 13,
   "id": "6f503d08",
   "metadata": {},
   "outputs": [],
   "source": [
    "def adder(a, b, c, *args):\n",
    "    print(a+b+c)\n",
    "    print(*args)"
   ]
  },
  {
   "cell_type": "code",
   "execution_count": 14,
   "id": "fd48685f",
   "metadata": {},
   "outputs": [
    {
     "name": "stdout",
     "output_type": "stream",
     "text": [
      "6\n",
      "10 29 22 80 99\n"
     ]
    }
   ],
   "source": [
    "adder(1,2,3, 10, 29, 22, 80, 99)"
   ]
  },
  {
   "cell_type": "code",
   "execution_count": 15,
   "id": "76845ccf",
   "metadata": {},
   "outputs": [],
   "source": [
    "# Kwargs"
   ]
  },
  {
   "cell_type": "code",
   "execution_count": 16,
   "id": "69f9bb1f",
   "metadata": {},
   "outputs": [],
   "source": [
    "def adder(a, *args, **kwargs):\n",
    "    print(a)\n",
    "    print(args)\n",
    "    print(kwargs)"
   ]
  },
  {
   "cell_type": "code",
   "execution_count": 17,
   "id": "ca45140f",
   "metadata": {},
   "outputs": [
    {
     "name": "stdout",
     "output_type": "stream",
     "text": [
      "1\n",
      "(2, 3, 4, 5)\n",
      "{'name': 'Saihaj'}\n"
     ]
    }
   ],
   "source": [
    "adder(1, 2,3,4,5, name = 'Saihaj')"
   ]
  },
  {
   "cell_type": "code",
   "execution_count": 19,
   "id": "daba06f5",
   "metadata": {},
   "outputs": [],
   "source": [
    "def adder(a, name = 'python', *args, **kwargs):\n",
    "    print(a)\n",
    "    print(name)\n",
    "    print(args)\n",
    "    print(kwargs.items())"
   ]
  },
  {
   "cell_type": "code",
   "execution_count": 20,
   "id": "801c4705",
   "metadata": {},
   "outputs": [
    {
     "name": "stdout",
     "output_type": "stream",
     "text": [
      "1\n",
      "Hello\n",
      "(3, 4, 5)\n",
      "dict_items([('function', 'add')])\n"
     ]
    }
   ],
   "source": [
    "adder(1,'Hello',3,4,5, function = 'add')"
   ]
  },
  {
   "cell_type": "code",
   "execution_count": 21,
   "id": "d28a86bd",
   "metadata": {},
   "outputs": [],
   "source": [
    "def add(b, a = 'python'):\n",
    "    print(b, a)"
   ]
  },
  {
   "cell_type": "code",
   "execution_count": 22,
   "id": "9384f877",
   "metadata": {},
   "outputs": [
    {
     "name": "stdout",
     "output_type": "stream",
     "text": [
      "1 python\n"
     ]
    }
   ],
   "source": [
    "add(1)"
   ]
  },
  {
   "cell_type": "code",
   "execution_count": 23,
   "id": "ed0f4b52",
   "metadata": {},
   "outputs": [],
   "source": [
    "def solve(a, b, c = 'Solver function'):\n",
    "    print(a, b)\n",
    "    print(c)"
   ]
  },
  {
   "cell_type": "code",
   "execution_count": 24,
   "id": "2448f0ac",
   "metadata": {},
   "outputs": [
    {
     "name": "stdout",
     "output_type": "stream",
     "text": [
      "9 8\n",
      "Hello\n"
     ]
    }
   ],
   "source": [
    "solve(9, 8, c = 'Hello')"
   ]
  },
  {
   "cell_type": "code",
   "execution_count": 25,
   "id": "6c005154",
   "metadata": {},
   "outputs": [
    {
     "name": "stdout",
     "output_type": "stream",
     "text": [
      "1Kohli!!!!2Kohli!!!!3The print function has ended"
     ]
    }
   ],
   "source": [
    "print('1', '2', '3', sep = '  Kohli!!!!  ', end='The print function has ended')"
   ]
  },
  {
   "cell_type": "code",
   "execution_count": null,
   "id": "d3dfc379",
   "metadata": {},
   "outputs": [],
   "source": []
  }
 ],
 "metadata": {
  "kernelspec": {
   "display_name": "Python 3 (ipykernel)",
   "language": "python",
   "name": "python3"
  },
  "language_info": {
   "codemirror_mode": {
    "name": "ipython",
    "version": 3
   },
   "file_extension": ".py",
   "mimetype": "text/x-python",
   "name": "python",
   "nbconvert_exporter": "python",
   "pygments_lexer": "ipython3",
   "version": "3.10.8"
  }
 },
 "nbformat": 4,
 "nbformat_minor": 5
}
