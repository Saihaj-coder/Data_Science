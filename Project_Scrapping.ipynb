{
 "cells": [
  {
   "cell_type": "code",
   "execution_count": 8,
   "id": "26a07a2c",
   "metadata": {},
   "outputs": [],
   "source": [
    "import requests\n",
    "from bs4 import BeautifulSoup\n",
    "import pandas as pd"
   ]
  },
  {
   "cell_type": "code",
   "execution_count": 2,
   "id": "81f06dac",
   "metadata": {},
   "outputs": [],
   "source": [
    "Links = []\n",
    "Names = []\n",
    "Prices = []\n",
    "Reviews = []"
   ]
  },
  {
   "cell_type": "code",
   "execution_count": 3,
   "id": "0b40bdcc",
   "metadata": {},
   "outputs": [],
   "source": [
    "url = \"https://www.flipkart.com/search?q=phones&otracker=search&otracker1=search&marketplace=FLIPKART&as-show=on&as=off&p%5B%5D=facets.brand%255B%255D%3DMi\"\n",
    "\n",
    "r = requests.get(url)\n",
    "# print(r)\n",
    "\n",
    "soup = BeautifulSoup(r.text, 'html.parser')\n",
    "\n",
    "data = soup.find_all('div', {'class':'_2kHMtA'})\n",
    "\n",
    "start_link = \"https://www.flipkart.com\"\n",
    "\n",
    "for items in data:\n",
    "    rest_link = items.find('a')['href']\n",
    "    Links.append(start_link + rest_link)    "
   ]
  },
  {
   "cell_type": "code",
   "execution_count": 4,
   "id": "1a5d4ab0",
   "metadata": {},
   "outputs": [
    {
     "name": "stdout",
     "output_type": "stream",
     "text": [
      "https://www.flipkart.com/redmi-10-power-sporty-orange-128-gb/p/itm97f5d2ec83588?pid=MOBGHDXFV9PCSYXV&lid=LSTMOBGHDXFV9PCSYXVS3DOKC&marketplace=FLIPKART&q=phones&store=tyy%2F4io&srno=s_1_1&otracker=search&otracker1=search&fm=organic&iid=cb726434-92a2-424b-b178-2610175a636e.MOBGHDXFV9PCSYXV.SEARCH&ppt=None&ppn=None&ssid=bwcmd66kj40000001685390817428&qH=28388ea49f54c5b8\n"
     ]
    }
   ],
   "source": [
    "print(Links[0])"
   ]
  },
  {
   "cell_type": "code",
   "execution_count": 7,
   "id": "3b398944",
   "metadata": {},
   "outputs": [
    {
     "name": "stdout",
     "output_type": "stream",
     "text": [
      "REDMI 10 Power (Sporty Orange, 128 GB) ₹12,703 4.2\n"
     ]
    }
   ],
   "source": [
    "names = soup.find_all('div', {'class':'_4rR01T'})\n",
    "\n",
    "for name in names:\n",
    "    Names.append(name.text)\n",
    "    \n",
    "prices = soup.find_all('div', {'class':'_30jeq3 _1_WHN1'})\n",
    "\n",
    "for price in prices:\n",
    "    Prices.append(price.text)\n",
    "    \n",
    "reviews = soup.find_all('div', {'class':'_3LWZlK'})\n",
    "\n",
    "for review in reviews:\n",
    "    Reviews.append(review.text)\n",
    "    \n",
    "print(Names[0], Prices[0], Reviews[0])    "
   ]
  },
  {
   "cell_type": "code",
   "execution_count": 9,
   "id": "5bc914ca",
   "metadata": {},
   "outputs": [
    {
     "name": "stdout",
     "output_type": "stream",
     "text": [
      "                                           Phone Name Phone Price  \\\n",
      "0              REDMI 10 Power (Sporty Orange, 128 GB)     ₹12,703   \n",
      "1                REDMI 10 Power (Power Black, 128 GB)     ₹12,745   \n",
      "2                 Redmi 9A Sport (Coral Green, 32 GB)      ₹7,440   \n",
      "3               Redmi 9A Sport (Metallic Blue, 32 GB)      ₹7,790   \n",
      "4                 Redmi 9A Sport (Coral Green, 32 GB)      ₹7,999   \n",
      "5                Redmi 9A Sport (Carbon Black, 32 GB)      ₹7,439   \n",
      "6                Redmi 9A Sport (Carbon Black, 32 GB)      ₹7,790   \n",
      "7   Xiaomi 11i Hypercharge 5G (Stealth Black, 128 GB)     ₹23,999   \n",
      "8                     Redmi Note 6 Pro (Black, 64 GB)     ₹15,999   \n",
      "9                 Redmi Note 6 Pro (Rose Gold, 64 GB)     ₹17,999   \n",
      "10                      Redmi Note 6 Pro (Red, 64 GB)     ₹15,999   \n",
      "11                      Redmi Note 6 Pro (Red, 64 GB)     ₹17,999   \n",
      "12                      Mi 10T (Cosmic Black, 128 GB)     ₹23,990   \n",
      "13  Xiaomi 11T Pro 5G Hyperphone (Celestial Magic,...     ₹29,990   \n",
      "14                   Mi 11 Lite (Vinyl Black, 128 GB)     ₹21,999   \n",
      "15                     Mi 11 Lite (Jazz Blue, 128 GB)     ₹18,999   \n",
      "16                   Mi 11 Lite (Vinyl Black, 128 GB)     ₹18,999   \n",
      "17         REDMI Note 11T 5G (Stardust White, 128 GB)     ₹19,400   \n",
      "18               Xiaomi 11Lite NE (Jazz Blue, 128 GB)     ₹24,999   \n",
      "19             Xiaomi 11Lite NE (Vinyl Black, 128 GB)     ₹22,999   \n",
      "20                      Mi 11X (Cosmic Black, 128 GB)     ₹23,990   \n",
      "21           Mi 11X Pro 5G (Celestial Silver, 128 GB)     ₹34,999   \n",
      "22               Redmi Note 7S (Sapphire Blue, 64 GB)     ₹13,999   \n",
      "23             Xiaomi 12 Pro 5G (Opera Mauve, 256 GB)     ₹47,999   \n",
      "\n",
      "   Phone Review                                      Product Links  \n",
      "0           4.2  https://www.flipkart.com/redmi-10-power-sporty...  \n",
      "1           4.2  https://www.flipkart.com/redmi-10-power-power-...  \n",
      "2           4.1  https://www.flipkart.com/redmi-9a-sport-coral-...  \n",
      "3           4.2  https://www.flipkart.com/redmi-9a-sport-metall...  \n",
      "4           4.2  https://www.flipkart.com/redmi-9a-sport-coral-...  \n",
      "5           4.1  https://www.flipkart.com/redmi-9a-sport-carbon...  \n",
      "6           4.2  https://www.flipkart.com/redmi-9a-sport-carbon...  \n",
      "7           4.2  https://www.flipkart.com/xiaomi-11i-hypercharg...  \n",
      "8           4.5  https://www.flipkart.com/redmi-note-6-pro-blac...  \n",
      "9           4.5  https://www.flipkart.com/redmi-note-6-pro-rose...  \n",
      "10          4.5  https://www.flipkart.com/redmi-note-6-pro-red-...  \n",
      "11          4.5  https://www.flipkart.com/redmi-note-6-pro-red-...  \n",
      "12          4.2  https://www.flipkart.com/mi-10t-cosmic-black-1...  \n",
      "13            4  https://www.flipkart.com/xiaomi-11t-pro-5g-hyp...  \n",
      "14          4.2  https://www.flipkart.com/mi-11-lite-vinyl-blac...  \n",
      "15          4.2  https://www.flipkart.com/mi-11-lite-jazz-blue-...  \n",
      "16          4.2  https://www.flipkart.com/mi-11-lite-vinyl-blac...  \n",
      "17          4.2  https://www.flipkart.com/redmi-note-11t-5g-sta...  \n",
      "18          4.2  https://www.flipkart.com/xiaomi-11lite-ne-jazz...  \n",
      "19          4.2  https://www.flipkart.com/xiaomi-11lite-ne-viny...  \n",
      "20          4.2  https://www.flipkart.com/mi-11x-cosmic-black-1...  \n",
      "21          3.9  https://www.flipkart.com/mi-11x-pro-5g-celesti...  \n",
      "22          4.4  https://www.flipkart.com/redmi-note-7s-sapphir...  \n",
      "23          4.1  https://www.flipkart.com/xiaomi-12-pro-5g-oper...  \n"
     ]
    }
   ],
   "source": [
    "df = {'Phone Name':Names, 'Phone Price':Prices, 'Phone Review':Reviews, 'Product Links':Links}\n",
    "final_df = pd.DataFrame(df)\n",
    "print(final_df)"
   ]
  },
  {
   "cell_type": "code",
   "execution_count": 10,
   "id": "08fef064",
   "metadata": {},
   "outputs": [],
   "source": [
    "final_df.to_csv('flipkart_data_url.csv')"
   ]
  },
  {
   "cell_type": "code",
   "execution_count": null,
   "id": "12a9a28b",
   "metadata": {},
   "outputs": [],
   "source": []
  }
 ],
 "metadata": {
  "kernelspec": {
   "display_name": "Python 3 (ipykernel)",
   "language": "python",
   "name": "python3"
  },
  "language_info": {
   "codemirror_mode": {
    "name": "ipython",
    "version": 3
   },
   "file_extension": ".py",
   "mimetype": "text/x-python",
   "name": "python",
   "nbconvert_exporter": "python",
   "pygments_lexer": "ipython3",
   "version": "3.10.8"
  }
 },
 "nbformat": 4,
 "nbformat_minor": 5
}
