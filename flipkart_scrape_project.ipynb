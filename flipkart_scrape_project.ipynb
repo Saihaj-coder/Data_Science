{
 "cells": [
  {
   "cell_type": "code",
   "execution_count": 1,
   "id": "9862f7f2",
   "metadata": {},
   "outputs": [],
   "source": [
    "import requests\n",
    "from bs4 import BeautifulSoup\n",
    "import pandas as pd"
   ]
  },
  {
   "cell_type": "code",
   "execution_count": 2,
   "id": "23a26e9f",
   "metadata": {},
   "outputs": [],
   "source": [
    "Names = []\n",
    "Prices = []\n",
    "Desc = []\n",
    "Reviews = []"
   ]
  },
  {
   "cell_type": "code",
   "execution_count": 3,
   "id": "6f5ef4a6",
   "metadata": {},
   "outputs": [
    {
     "name": "stdout",
     "output_type": "stream",
     "text": [
      "24\n",
      "24\n",
      "24\n",
      "24\n",
      "48\n",
      "48\n",
      "48\n",
      "48\n",
      "72\n",
      "72\n",
      "72\n",
      "72\n",
      "96\n",
      "96\n",
      "96\n",
      "96\n",
      "120\n",
      "120\n",
      "120\n",
      "120\n"
     ]
    }
   ],
   "source": [
    "for i in range(1, 6):\n",
    "    url = \"https://www.flipkart.com/search?q=mobiles+under+50000&otracker=search&otracker1=search&marketplace=FLIPKART&as-show=on&as=off&as-pos=1&as-type=HISTORY\"+str(i)\n",
    "\n",
    "    r = requests.get(url)\n",
    "\n",
    "    soup = BeautifulSoup(r.text, 'html.parser')\n",
    "    box = soup.find(\"div\", class_ = \"_1YokD2 _3Mn1Gg\")\n",
    "\n",
    "    names = box.find_all(\"div\", class_ = \"_4rR01T\")\n",
    "\n",
    "    for i in names:\n",
    "        n = i.text\n",
    "        Names.append(n)\n",
    "    print(len(Names))\n",
    "    \n",
    "    prices = box.find_all(\"div\", class_ = \"_30jeq3 _1_WHN1\")\n",
    "\n",
    "    for i in prices:\n",
    "        p = i.text\n",
    "        Prices.append(p)\n",
    "    print(len(Prices))\n",
    "    \n",
    "    desc = box.find_all(\"ul\", class_ = \"_1xgFaf\")\n",
    "\n",
    "    for i in desc:\n",
    "        d = i.text\n",
    "        Desc.append(d)\n",
    "    print(len(Desc))\n",
    "    \n",
    "    reviews = box.find_all(\"div\", class_ = \"_3LWZlK\")\n",
    "\n",
    "    for i in reviews:\n",
    "        r = i.text\n",
    "        Reviews.append(r)\n",
    "    print(len(Reviews))        \n"
   ]
  },
  {
   "cell_type": "code",
   "execution_count": 4,
   "id": "5d580e0f",
   "metadata": {},
   "outputs": [
    {
     "name": "stdout",
     "output_type": "stream",
     "text": [
      "                                          Product name Product prices  \\\n",
      "0                      APPLE iPhone 11 (White, 128 GB)        ₹45,499   \n",
      "1                      APPLE iPhone 11 (Black, 128 GB)        ₹45,499   \n",
      "2    MOTOROLA Edge 30 Ultra (Interstellar Black, 25...        ₹49,999   \n",
      "3                                    GREENBERRI RAFALE           ₹899   \n",
      "4     MOTOROLA Edge 30 Ultra (Starlight White, 256 GB)        ₹49,999   \n",
      "..                                                 ...            ...   \n",
      "115      SAMSUNG Galaxy A73 5G (Awesome White, 128 GB)        ₹41,999   \n",
      "116        SAMSUNG Galaxy S22 5G (Bora Purple, 128 GB)        ₹49,949   \n",
      "117                    APPLE iPhone 11 (Green, 128 GB)        ₹46,999   \n",
      "118      SAMSUNG Galaxy S22 5G (Phantom White, 128 GB)        ₹49,999   \n",
      "119      SAMSUNG Galaxy S22 5G (Phantom Black, 128 GB)        ₹49,999   \n",
      "\n",
      "                                   Product Description Product reviews  \n",
      "0    128 GB ROM15.49 cm (6.1 inch) Liquid Retina HD...             4.6  \n",
      "1    128 GB ROM15.49 cm (6.1 inch) Liquid Retina HD...             4.6  \n",
      "2    12 GB RAM | 256 GB ROM16.94 cm (6.67 inch) Ful...             4.2  \n",
      "3    32 MB RAM | 32 MB ROM4.57 cm (1.8 inch) Displa...             3.9  \n",
      "4    12 GB RAM | 256 GB ROM16.94 cm (6.67 inch) Ful...             4.2  \n",
      "..                                                 ...             ...  \n",
      "115  8 GB RAM | 128 GB ROM | Expandable Upto 1 TB17...             4.2  \n",
      "116  8 GB RAM | 128 GB ROM15.49 cm (6.1 inch) Displ...             4.3  \n",
      "117  128 GB ROM15.49 cm (6.1 inch) Liquid Retina HD...             4.6  \n",
      "118  8 GB RAM | 128 GB ROM15.49 cm (6.1 inch) Full ...             4.3  \n",
      "119  8 GB RAM | 128 GB ROM15.49 cm (6.1 inch) Full ...             4.3  \n",
      "\n",
      "[120 rows x 4 columns]\n"
     ]
    }
   ],
   "source": [
    "df = pd.DataFrame({\"Product name\":Names, \"Product prices\":Prices, \"Product Description\":Desc, \"Product reviews\":Reviews})\n",
    "print(df)"
   ]
  },
  {
   "cell_type": "code",
   "execution_count": 5,
   "id": "a4c0595d",
   "metadata": {},
   "outputs": [],
   "source": [
    "df.to_csv(\"mobile_phones.csv\")"
   ]
  },
  {
   "cell_type": "code",
   "execution_count": null,
   "id": "651e56d0",
   "metadata": {},
   "outputs": [],
   "source": []
  }
 ],
 "metadata": {
  "kernelspec": {
   "display_name": "Python 3 (ipykernel)",
   "language": "python",
   "name": "python3"
  },
  "language_info": {
   "codemirror_mode": {
    "name": "ipython",
    "version": 3
   },
   "file_extension": ".py",
   "mimetype": "text/x-python",
   "name": "python",
   "nbconvert_exporter": "python",
   "pygments_lexer": "ipython3",
   "version": "3.10.8"
  }
 },
 "nbformat": 4,
 "nbformat_minor": 5
}
