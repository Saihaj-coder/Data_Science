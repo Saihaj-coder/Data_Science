{
 "cells": [
  {
   "cell_type": "code",
   "execution_count": 1,
   "id": "cdcf9bb7",
   "metadata": {},
   "outputs": [],
   "source": [
    "# Loops\n",
    "# While\n",
    "# For"
   ]
  },
  {
   "cell_type": "code",
   "execution_count": 2,
   "id": "9d8a9e7c",
   "metadata": {},
   "outputs": [
    {
     "name": "stdout",
     "output_type": "stream",
     "text": [
      "Virat Kohli\n"
     ]
    }
   ],
   "source": [
    "print(\"Virat Kohli\")"
   ]
  },
  {
   "cell_type": "code",
   "execution_count": 3,
   "id": "884db135",
   "metadata": {},
   "outputs": [
    {
     "name": "stdout",
     "output_type": "stream",
     "text": [
      "Virat Kohli!\n",
      "Virat Kohli!\n",
      "Virat Kohli!\n",
      "Virat Kohli!\n",
      "Virat Kohli!\n"
     ]
    }
   ],
   "source": [
    "for i in range(5):\n",
    "    print(\"Virat Kohli!\")"
   ]
  },
  {
   "cell_type": "code",
   "execution_count": 4,
   "id": "195dc5e8",
   "metadata": {},
   "outputs": [
    {
     "name": "stdout",
     "output_type": "stream",
     "text": [
      "Enter a number18\n",
      "<class 'int'>\n",
      "Enter a number26\n",
      "<class 'int'>\n"
     ]
    }
   ],
   "source": [
    "for i in range(2):\n",
    "    i = int(input(\"Enter a number\"))\n",
    "    print(type(i))"
   ]
  },
  {
   "cell_type": "code",
   "execution_count": 5,
   "id": "8dbcd879",
   "metadata": {},
   "outputs": [
    {
     "name": "stdout",
     "output_type": "stream",
     "text": [
      "<class 'str'>\n"
     ]
    }
   ],
   "source": [
    "a = '2'\n",
    "print(type(a))"
   ]
  },
  {
   "cell_type": "code",
   "execution_count": 6,
   "id": "b3c82b3e",
   "metadata": {},
   "outputs": [],
   "source": [
    "def fact(a):\n",
    "    x=1\n",
    "    for i in range(0,a):\n",
    "        x= x*(i+1)\n",
    "    return x"
   ]
  },
  {
   "cell_type": "code",
   "execution_count": 7,
   "id": "55e17238",
   "metadata": {},
   "outputs": [
    {
     "data": {
      "text/plain": [
       "120"
      ]
     },
     "execution_count": 7,
     "metadata": {},
     "output_type": "execute_result"
    }
   ],
   "source": [
    "fact(5)"
   ]
  },
  {
   "cell_type": "code",
   "execution_count": 8,
   "id": "83670cc6",
   "metadata": {},
   "outputs": [],
   "source": [
    "def findSumBetween(a, b):\n",
    "    ans = 0\n",
    "    for k in range(a,b+1):\n",
    "        ans = ans + k\n",
    "    return ans"
   ]
  },
  {
   "cell_type": "code",
   "execution_count": 9,
   "id": "c38f88f2",
   "metadata": {},
   "outputs": [
    {
     "data": {
      "text/plain": [
       "45"
      ]
     },
     "execution_count": 9,
     "metadata": {},
     "output_type": "execute_result"
    }
   ],
   "source": [
    "findSumBetween(5, 10)"
   ]
  },
  {
   "cell_type": "code",
   "execution_count": 10,
   "id": "a665c9fc",
   "metadata": {},
   "outputs": [],
   "source": [
    "def findSumBetween(b, a=5):\n",
    "    ans = 0\n",
    "    for k in range(a,b+1):\n",
    "        ans = ans + k\n",
    "#     print(ans)\n",
    "    return ans"
   ]
  },
  {
   "cell_type": "code",
   "execution_count": 11,
   "id": "8b0308ca",
   "metadata": {},
   "outputs": [
    {
     "name": "stdout",
     "output_type": "stream",
     "text": [
      "55\n",
      "45\n"
     ]
    }
   ],
   "source": [
    "print(findSumBetween(10, 0))\n",
    "print(findSumBetween(10))"
   ]
  },
  {
   "cell_type": "code",
   "execution_count": 14,
   "id": "6d197db3",
   "metadata": {},
   "outputs": [
    {
     "name": "stdout",
     "output_type": "stream",
     "text": [
      "The Iterator has a value of:  1\n",
      "The Iterator has a value of:  2\n",
      "The Iterator has a value of:  3\n",
      "The Iterator has a value of:  4\n"
     ]
    }
   ],
   "source": [
    "for i in range(1, 5):\n",
    "    print(\"The Iterator has a value of: \", i)"
   ]
  },
  {
   "cell_type": "code",
   "execution_count": 15,
   "id": "8a98fde2",
   "metadata": {},
   "outputs": [],
   "source": [
    "string = \"Kohli Bhai!\""
   ]
  },
  {
   "cell_type": "code",
   "execution_count": 16,
   "id": "63f72503",
   "metadata": {},
   "outputs": [
    {
     "name": "stdout",
     "output_type": "stream",
     "text": [
      "K\n",
      "o\n",
      "h\n",
      "l\n",
      "i\n",
      " \n",
      "B\n",
      "h\n",
      "a\n",
      "i\n",
      "!\n"
     ]
    }
   ],
   "source": [
    "for i in string:\n",
    "    print(i)"
   ]
  },
  {
   "cell_type": "code",
   "execution_count": 17,
   "id": "88c3609a",
   "metadata": {},
   "outputs": [
    {
     "name": "stdout",
     "output_type": "stream",
     "text": [
      "2\n"
     ]
    }
   ],
   "source": [
    "string = '2'\n",
    "for i in string:\n",
    "    print(i)"
   ]
  },
  {
   "cell_type": "code",
   "execution_count": 18,
   "id": "7371c2f0",
   "metadata": {},
   "outputs": [],
   "source": [
    "# In range(a, b) a is inclusive but b is exclusive"
   ]
  },
  {
   "cell_type": "code",
   "execution_count": 19,
   "id": "258587e0",
   "metadata": {},
   "outputs": [],
   "source": [
    "# While loop"
   ]
  },
  {
   "cell_type": "code",
   "execution_count": 22,
   "id": "ffef2043",
   "metadata": {},
   "outputs": [
    {
     "name": "stdout",
     "output_type": "stream",
     "text": [
      "Current value of number is --> 0\n",
      "Current value of number is --> 1\n",
      "Current value of number is --> 2\n",
      "Current value of number is --> 3\n",
      "Current value of number is --> 4\n",
      "Current value of number is --> 5\n",
      "Current value of number is --> 6\n",
      "Current value of number is --> 7\n",
      "Current value of number is --> 8\n",
      "Current value of number is --> 9\n",
      "Current value of number is --> 10\n"
     ]
    }
   ],
   "source": [
    "number_1 = 0\n",
    "while number_1 <= 10:\n",
    "    print(\"Current value of number is -->\", number_1)\n",
    "    number_1 = number_1 + 1"
   ]
  },
  {
   "cell_type": "code",
   "execution_count": 23,
   "id": "f620c2c1",
   "metadata": {},
   "outputs": [
    {
     "data": {
      "text/plain": [
       "11"
      ]
     },
     "execution_count": 23,
     "metadata": {},
     "output_type": "execute_result"
    }
   ],
   "source": [
    "number_1"
   ]
  },
  {
   "cell_type": "code",
   "execution_count": 24,
   "id": "64a498a8",
   "metadata": {},
   "outputs": [],
   "source": [
    "# Break\n",
    "# Continue"
   ]
  },
  {
   "cell_type": "code",
   "execution_count": 25,
   "id": "2380301e",
   "metadata": {},
   "outputs": [
    {
     "name": "stdout",
     "output_type": "stream",
     "text": [
      "0\n",
      "1\n",
      "2\n",
      "3\n",
      "4\n"
     ]
    }
   ],
   "source": [
    "for i in range(10):\n",
    "    if (i == 5):\n",
    "        break\n",
    "    else:\n",
    "        print(i)"
   ]
  },
  {
   "cell_type": "code",
   "execution_count": 26,
   "id": "5a86dd62",
   "metadata": {},
   "outputs": [
    {
     "name": "stdout",
     "output_type": "stream",
     "text": [
      "Value of J: 0\n",
      "0\n",
      "1\n",
      "Value of J: 1\n",
      "0\n",
      "1\n"
     ]
    }
   ],
   "source": [
    "for j in range(500):\n",
    "    if (j == 2):\n",
    "        break\n",
    "    print(\"Value of J:\", j)\n",
    "    for i in range(500):\n",
    "            if (i == 2):\n",
    "                break\n",
    "            else:\n",
    "                print(i)"
   ]
  },
  {
   "cell_type": "code",
   "execution_count": 27,
   "id": "e9c60325",
   "metadata": {},
   "outputs": [
    {
     "name": "stdout",
     "output_type": "stream",
     "text": [
      "Enter the number:- 18\n",
      "Password Incorrect\n",
      "Enter the number:- 7\n",
      "Password Incorrect\n",
      "Enter the number:- 63\n",
      "Password Incorrect\n",
      "Enter the number:- 9\n",
      "Password Correct\n"
     ]
    }
   ],
   "source": [
    "# while(1):\n",
    "while(True):\n",
    "    a = int(input(\"Enter the number:- \"))\n",
    "    \n",
    "    if (a==9):\n",
    "        print(\"Password Correct\")\n",
    "        break\n",
    "    else:\n",
    "        print(\"Password Incorrect\")"
   ]
  },
  {
   "cell_type": "code",
   "execution_count": 28,
   "id": "01549a2c",
   "metadata": {},
   "outputs": [
    {
     "data": {
      "text/plain": [
       "False"
      ]
     },
     "execution_count": 28,
     "metadata": {},
     "output_type": "execute_result"
    }
   ],
   "source": [
    "number_1 <= 10"
   ]
  },
  {
   "cell_type": "code",
   "execution_count": 29,
   "id": "5604daca",
   "metadata": {},
   "outputs": [
    {
     "name": "stdout",
     "output_type": "stream",
     "text": [
      "Value of i: 0\n",
      "0\n",
      "1\n",
      "2\n",
      "3\n",
      "4\n",
      "Value of i: 1\n",
      "0\n",
      "1\n",
      "2\n",
      "3\n",
      "4\n",
      "Value of i: 2\n",
      "0\n",
      "1\n",
      "2\n",
      "3\n",
      "4\n",
      "Value of i: 3\n",
      "0\n",
      "1\n",
      "2\n",
      "3\n",
      "4\n",
      "Value of i: 4\n",
      "0\n",
      "1\n",
      "2\n",
      "3\n",
      "4\n"
     ]
    }
   ],
   "source": [
    "for i in range(5):\n",
    "    print(\"Value of i:\", i)\n",
    "    for j in range(5):\n",
    "        print(j)"
   ]
  },
  {
   "cell_type": "code",
   "execution_count": 30,
   "id": "4e9bd73e",
   "metadata": {},
   "outputs": [
    {
     "name": "stdout",
     "output_type": "stream",
     "text": [
      "Enter Value: 1\n",
      "1\n",
      "Enter Value: 2\n",
      "2\n",
      "Enter Value: 3\n",
      "3\n",
      "Enter Value: 7\n",
      "Code goes to next iteration in the current loop\n",
      "Enter Value: 0\n"
     ]
    }
   ],
   "source": [
    "for i in range(10):\n",
    "    i = int(input('Enter Value: '))\n",
    "    if i==7:\n",
    "        print(\"Code goes to next iteration in the current loop\")\n",
    "        continue\n",
    "    elif i == 0:\n",
    "        break\n",
    "    print(i)"
   ]
  },
  {
   "cell_type": "code",
   "execution_count": 31,
   "id": "e9954c85",
   "metadata": {},
   "outputs": [
    {
     "data": {
      "text/plain": [
       "True"
      ]
     },
     "execution_count": 31,
     "metadata": {},
     "output_type": "execute_result"
    }
   ],
   "source": [
    "number_1 != 12"
   ]
  },
  {
   "cell_type": "code",
   "execution_count": 32,
   "id": "f8a7468b",
   "metadata": {},
   "outputs": [],
   "source": [
    "a = 5"
   ]
  },
  {
   "cell_type": "code",
   "execution_count": 33,
   "id": "8e36dd5e",
   "metadata": {},
   "outputs": [
    {
     "data": {
      "text/plain": [
       "5"
      ]
     },
     "execution_count": 33,
     "metadata": {},
     "output_type": "execute_result"
    }
   ],
   "source": [
    "a"
   ]
  },
  {
   "cell_type": "code",
   "execution_count": 42,
   "id": "4cc7aa5c",
   "metadata": {},
   "outputs": [],
   "source": [
    "a+=10"
   ]
  },
  {
   "cell_type": "code",
   "execution_count": 43,
   "id": "653b6a02",
   "metadata": {},
   "outputs": [
    {
     "data": {
      "text/plain": [
       "5010"
      ]
     },
     "execution_count": 43,
     "metadata": {},
     "output_type": "execute_result"
    }
   ],
   "source": [
    "a"
   ]
  },
  {
   "cell_type": "code",
   "execution_count": 44,
   "id": "5aada150",
   "metadata": {},
   "outputs": [
    {
     "data": {
      "text/plain": [
       "5000"
      ]
     },
     "execution_count": 44,
     "metadata": {},
     "output_type": "execute_result"
    }
   ],
   "source": [
    "a-=10\n",
    "a"
   ]
  },
  {
   "cell_type": "code",
   "execution_count": 46,
   "id": "07210214",
   "metadata": {},
   "outputs": [
    {
     "data": {
      "text/plain": [
       "500000"
      ]
     },
     "execution_count": 46,
     "metadata": {},
     "output_type": "execute_result"
    }
   ],
   "source": [
    "a*=10\n",
    "a"
   ]
  },
  {
   "cell_type": "code",
   "execution_count": 47,
   "id": "99d0dcdd",
   "metadata": {},
   "outputs": [
    {
     "data": {
      "text/plain": [
       "250000000000"
      ]
     },
     "execution_count": 47,
     "metadata": {},
     "output_type": "execute_result"
    }
   ],
   "source": [
    "a**2"
   ]
  },
  {
   "cell_type": "code",
   "execution_count": 48,
   "id": "207cea30",
   "metadata": {},
   "outputs": [],
   "source": [
    "a = 25"
   ]
  },
  {
   "cell_type": "code",
   "execution_count": 49,
   "id": "dc09137b",
   "metadata": {},
   "outputs": [
    {
     "data": {
      "text/plain": [
       "25"
      ]
     },
     "execution_count": 49,
     "metadata": {},
     "output_type": "execute_result"
    }
   ],
   "source": [
    "a"
   ]
  },
  {
   "cell_type": "code",
   "execution_count": 50,
   "id": "8dc31540",
   "metadata": {},
   "outputs": [],
   "source": [
    "a/=10"
   ]
  },
  {
   "cell_type": "code",
   "execution_count": 51,
   "id": "5b7f0596",
   "metadata": {},
   "outputs": [
    {
     "data": {
      "text/plain": [
       "2.5"
      ]
     },
     "execution_count": 51,
     "metadata": {},
     "output_type": "execute_result"
    }
   ],
   "source": [
    "a"
   ]
  },
  {
   "cell_type": "code",
   "execution_count": 52,
   "id": "88f51ec0",
   "metadata": {},
   "outputs": [
    {
     "name": "stdout",
     "output_type": "stream",
     "text": [
      "2.5 <class 'float'>\n"
     ]
    }
   ],
   "source": [
    "print(a, type(a))"
   ]
  },
  {
   "cell_type": "code",
   "execution_count": 53,
   "id": "531f45e8",
   "metadata": {},
   "outputs": [
    {
     "data": {
      "text/plain": [
       "2.5"
      ]
     },
     "execution_count": 53,
     "metadata": {},
     "output_type": "execute_result"
    }
   ],
   "source": [
    "a"
   ]
  },
  {
   "cell_type": "code",
   "execution_count": 55,
   "id": "a4f8fdbc",
   "metadata": {},
   "outputs": [],
   "source": [
    "integer = 10"
   ]
  },
  {
   "cell_type": "code",
   "execution_count": 56,
   "id": "af734a24",
   "metadata": {},
   "outputs": [
    {
     "name": "stdout",
     "output_type": "stream",
     "text": [
      "Hello World!\n"
     ]
    }
   ],
   "source": [
    "if (integer == 100) or (integer %2 == 0):\n",
    "    print(\"Hello World!\")\n",
    "else:\n",
    "    print(\"Bye\")"
   ]
  },
  {
   "cell_type": "code",
   "execution_count": 57,
   "id": "995eb1b8",
   "metadata": {},
   "outputs": [
    {
     "name": "stdout",
     "output_type": "stream",
     "text": [
      "Bye\n"
     ]
    }
   ],
   "source": [
    "if (integer == 100) and (integer %2 == 0):\n",
    "    print(\"Hello World!\")\n",
    "else:\n",
    "    print(\"Bye\")"
   ]
  },
  {
   "cell_type": "code",
   "execution_count": 58,
   "id": "b94d3996",
   "metadata": {},
   "outputs": [
    {
     "name": "stdout",
     "output_type": "stream",
     "text": [
      "Enter a number:29\n",
      "29 is a prime number\n"
     ]
    }
   ],
   "source": [
    "num = int(input(\"Enter a number:\"))\n",
    "\n",
    "flag = False\n",
    "\n",
    "if num == 1:\n",
    "    print('Number is a special number')\n",
    "elif num > 1:\n",
    "    for i in range(2, num - 1):\n",
    "        if (num%i) == 0:\n",
    "            flag = True\n",
    "            break\n",
    "    if flag:\n",
    "        print(num, \"is not a prime number\")\n",
    "    else:\n",
    "        print(num, \"is a prime number\")"
   ]
  },
  {
   "cell_type": "code",
   "execution_count": null,
   "id": "b3bc76b4",
   "metadata": {},
   "outputs": [],
   "source": []
  }
 ],
 "metadata": {
  "kernelspec": {
   "display_name": "Python 3 (ipykernel)",
   "language": "python",
   "name": "python3"
  },
  "language_info": {
   "codemirror_mode": {
    "name": "ipython",
    "version": 3
   },
   "file_extension": ".py",
   "mimetype": "text/x-python",
   "name": "python",
   "nbconvert_exporter": "python",
   "pygments_lexer": "ipython3",
   "version": "3.10.8"
  }
 },
 "nbformat": 4,
 "nbformat_minor": 5
}
