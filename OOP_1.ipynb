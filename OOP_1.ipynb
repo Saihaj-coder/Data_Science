{
 "cells": [
  {
   "cell_type": "code",
   "execution_count": 1,
   "id": "ed4ff21e",
   "metadata": {},
   "outputs": [],
   "source": [
    "class Student:\n",
    "    mentor = 'Abhijeet'\n",
    "    age = 22"
   ]
  },
  {
   "cell_type": "code",
   "execution_count": 2,
   "id": "b0889c8b",
   "metadata": {},
   "outputs": [],
   "source": [
    "a = Student()"
   ]
  },
  {
   "cell_type": "code",
   "execution_count": 3,
   "id": "53908e84",
   "metadata": {},
   "outputs": [],
   "source": [
    "b = Student()"
   ]
  },
  {
   "cell_type": "code",
   "execution_count": 4,
   "id": "2f6510cf",
   "metadata": {},
   "outputs": [],
   "source": [
    "c = Student()"
   ]
  },
  {
   "cell_type": "code",
   "execution_count": 5,
   "id": "4f3c242c",
   "metadata": {},
   "outputs": [
    {
     "name": "stdout",
     "output_type": "stream",
     "text": [
      "Abhijeet Abhijeet Abhijeet 22 22 22\n"
     ]
    }
   ],
   "source": [
    "print(c.mentor, b.mentor, a.mentor, a.age, b.age, c.age)"
   ]
  },
  {
   "cell_type": "code",
   "execution_count": 6,
   "id": "6dd86c78",
   "metadata": {},
   "outputs": [],
   "source": [
    "class Person:\n",
    "    alive = True\n",
    "    age = 22\n",
    "    name = None\n",
    "    \n",
    "    def hello(self):\n",
    "        print(\"Hello I am:\", self.alive, self.name, self.age)"
   ]
  },
  {
   "cell_type": "code",
   "execution_count": 7,
   "id": "62f1d071",
   "metadata": {},
   "outputs": [],
   "source": [
    "p = Person()"
   ]
  },
  {
   "cell_type": "code",
   "execution_count": 8,
   "id": "045a38a5",
   "metadata": {},
   "outputs": [
    {
     "name": "stdout",
     "output_type": "stream",
     "text": [
      "<__main__.Person object at 0x0000024F85C0DE70>\n"
     ]
    }
   ],
   "source": [
    "print(p)"
   ]
  },
  {
   "cell_type": "code",
   "execution_count": 9,
   "id": "6f5a8e95",
   "metadata": {},
   "outputs": [
    {
     "name": "stdout",
     "output_type": "stream",
     "text": [
      "Hello I am: True None 22\n"
     ]
    }
   ],
   "source": [
    "p.hello()"
   ]
  },
  {
   "cell_type": "code",
   "execution_count": 10,
   "id": "f3aad690",
   "metadata": {},
   "outputs": [],
   "source": [
    "class Person:\n",
    "    alive = True\n",
    "    age = 22\n",
    "    name = None\n",
    "    \n",
    "    def hello(self, name_person, age_person, alive_person = True):\n",
    "        self.name = name_person\n",
    "        self.age = age_person\n",
    "        self.alive = alive_person\n",
    "        print(\"Hello I am:\", self.alive, self.name, self.age)"
   ]
  },
  {
   "cell_type": "code",
   "execution_count": 11,
   "id": "acd373c4",
   "metadata": {},
   "outputs": [],
   "source": [
    "q = Person()"
   ]
  },
  {
   "cell_type": "code",
   "execution_count": 12,
   "id": "e726e06b",
   "metadata": {},
   "outputs": [
    {
     "name": "stdout",
     "output_type": "stream",
     "text": [
      "<class '__main__.Person'>\n"
     ]
    }
   ],
   "source": [
    "print(type(q))"
   ]
  },
  {
   "cell_type": "code",
   "execution_count": 13,
   "id": "a96e124b",
   "metadata": {},
   "outputs": [
    {
     "name": "stdout",
     "output_type": "stream",
     "text": [
      "Hello I am: True abhijeet 30\n"
     ]
    }
   ],
   "source": [
    "q.hello('abhijeet', 30)"
   ]
  },
  {
   "cell_type": "code",
   "execution_count": 14,
   "id": "3d80a949",
   "metadata": {},
   "outputs": [
    {
     "data": {
      "text/plain": [
       "'abhijeet'"
      ]
     },
     "execution_count": 14,
     "metadata": {},
     "output_type": "execute_result"
    }
   ],
   "source": [
    "q.name"
   ]
  },
  {
   "cell_type": "code",
   "execution_count": 15,
   "id": "cae542e8",
   "metadata": {},
   "outputs": [
    {
     "data": {
      "text/plain": [
       "30"
      ]
     },
     "execution_count": 15,
     "metadata": {},
     "output_type": "execute_result"
    }
   ],
   "source": [
    "q.age"
   ]
  },
  {
   "cell_type": "code",
   "execution_count": 16,
   "id": "cb8493ab",
   "metadata": {},
   "outputs": [],
   "source": [
    "p = Person()"
   ]
  },
  {
   "cell_type": "code",
   "execution_count": 17,
   "id": "819bcb49",
   "metadata": {},
   "outputs": [
    {
     "name": "stdout",
     "output_type": "stream",
     "text": [
      "None\n"
     ]
    }
   ],
   "source": [
    "print(p.name)"
   ]
  },
  {
   "cell_type": "code",
   "execution_count": 18,
   "id": "a8a69178",
   "metadata": {},
   "outputs": [
    {
     "name": "stdout",
     "output_type": "stream",
     "text": [
      "Hello I am: False samar 99\n",
      "samar 99 False\n"
     ]
    }
   ],
   "source": [
    "p.hello('samar', 99, False)\n",
    "print(p.name, p.age, p.alive)"
   ]
  },
  {
   "cell_type": "code",
   "execution_count": 19,
   "id": "d5cc8314",
   "metadata": {},
   "outputs": [],
   "source": [
    "# Dunders/ Magic Function"
   ]
  },
  {
   "cell_type": "code",
   "execution_count": 20,
   "id": "3440a9e2",
   "metadata": {},
   "outputs": [],
   "source": [
    "class Person:\n",
    "    living = True\n",
    "    \n",
    "    def __init__(self, person_name, person_age, person_height):\n",
    "        self.name = person_name\n",
    "        self.age = person_age\n",
    "        self.height = person_height\n",
    "        print(\"Chal gya\")\n",
    "        \n",
    "    def hello(self):\n",
    "        print(self.name, self.age, self.height)"
   ]
  },
  {
   "cell_type": "code",
   "execution_count": 21,
   "id": "e6d464f5",
   "metadata": {},
   "outputs": [
    {
     "name": "stdout",
     "output_type": "stream",
     "text": [
      "Chal gya\n",
      "NEXT LINE\n",
      "Chal gya\n"
     ]
    }
   ],
   "source": [
    "person1 = Person('Abhijeet', 22, 5.10)\n",
    "print(\"NEXT LINE\")\n",
    "person2 = Person('Saihaj', 19, 6)"
   ]
  },
  {
   "cell_type": "code",
   "execution_count": 22,
   "id": "0e283681",
   "metadata": {},
   "outputs": [
    {
     "name": "stdout",
     "output_type": "stream",
     "text": [
      "Abhijeet 22 5.1\n",
      "Saihaj 19 6\n"
     ]
    }
   ],
   "source": [
    "print(person1.name, person1.age, person1.height)\n",
    "print(person2.name, person2.age, person2.height)"
   ]
  },
  {
   "cell_type": "code",
   "execution_count": 23,
   "id": "eef7c57e",
   "metadata": {},
   "outputs": [
    {
     "name": "stdout",
     "output_type": "stream",
     "text": [
      "True True\n"
     ]
    }
   ],
   "source": [
    "print(person1.living, person2.living)"
   ]
  },
  {
   "cell_type": "code",
   "execution_count": 24,
   "id": "d245880b",
   "metadata": {},
   "outputs": [
    {
     "name": "stdout",
     "output_type": "stream",
     "text": [
      "nameSaihaj\n",
      "RollNO93\n",
      "age19\n",
      "Abhijeet Bhaiya Saihaj 93 19\n"
     ]
    }
   ],
   "source": [
    "class Student:\n",
    "    mentor = \"Abhijeet Bhaiya\"\n",
    "    def __init__(self, name, rollno, age):\n",
    "        self.name = name\n",
    "        self.rollno = rollno\n",
    "        self.age = age\n",
    "s1 = Student(input(\"name\"), input(\"RollNO\"), input(\"age\"))\n",
    "print(s1.mentor, s1.name, s1.rollno, s1.age)"
   ]
  },
  {
   "cell_type": "code",
   "execution_count": 25,
   "id": "8a4b73d8",
   "metadata": {},
   "outputs": [],
   "source": [
    "class Student:\n",
    "    mentor = 'Abhijeet'\n",
    "    \n",
    "    def __init__(self, name, age, roll):\n",
    "        self.name = name\n",
    "        self.age = age\n",
    "        self.roll = roll"
   ]
  },
  {
   "cell_type": "code",
   "execution_count": 26,
   "id": "751d260e",
   "metadata": {},
   "outputs": [
    {
     "name": "stdout",
     "output_type": "stream",
     "text": [
      "NameSaihaj\n",
      "Age19\n",
      "roll93\n"
     ]
    }
   ],
   "source": [
    "a = Student(input('Name'), int(input('Age')), int(input('roll')))"
   ]
  },
  {
   "cell_type": "code",
   "execution_count": 28,
   "id": "d83278fd",
   "metadata": {},
   "outputs": [
    {
     "name": "stdout",
     "output_type": "stream",
     "text": [
      "NameSaihajpreet\n",
      "Age19\n",
      "roll93\n"
     ]
    }
   ],
   "source": [
    "b = Student(input('Name'), int(input('Age')), int(input('roll')))"
   ]
  },
  {
   "cell_type": "code",
   "execution_count": 29,
   "id": "cb7231a3",
   "metadata": {},
   "outputs": [
    {
     "name": "stdout",
     "output_type": "stream",
     "text": [
      "Saihaj Saihajpreet 19 19 93 93\n"
     ]
    }
   ],
   "source": [
    "print(a.name, b.name, a.age, b.age, a.roll, b.roll)"
   ]
  },
  {
   "cell_type": "code",
   "execution_count": 30,
   "id": "6deabf0b",
   "metadata": {},
   "outputs": [
    {
     "name": "stdout",
     "output_type": "stream",
     "text": [
      "Abhijeet Abhijeet 2540566217456 2540566217456 2540566217456\n"
     ]
    }
   ],
   "source": [
    "print(a.mentor, b.mentor, id(a.mentor), id(b.mentor), id(Student('a', 'b', 'c').mentor))"
   ]
  },
  {
   "cell_type": "code",
   "execution_count": 31,
   "id": "73936e84",
   "metadata": {},
   "outputs": [
    {
     "name": "stdout",
     "output_type": "stream",
     "text": [
      "2540570851888 2540565484528\n"
     ]
    }
   ],
   "source": [
    "print(id(a.name), id(b.name))"
   ]
  },
  {
   "cell_type": "code",
   "execution_count": 32,
   "id": "78ed65cf",
   "metadata": {},
   "outputs": [
    {
     "data": {
      "text/plain": [
       "<__main__.Student at 0x24f8658e620>"
      ]
     },
     "execution_count": 32,
     "metadata": {},
     "output_type": "execute_result"
    }
   ],
   "source": [
    "a"
   ]
  },
  {
   "cell_type": "code",
   "execution_count": 33,
   "id": "b83a63f4",
   "metadata": {},
   "outputs": [],
   "source": [
    "# HW PATTERN PROBLEM"
   ]
  },
  {
   "cell_type": "code",
   "execution_count": 34,
   "id": "39953dea",
   "metadata": {},
   "outputs": [
    {
     "name": "stdout",
     "output_type": "stream",
     "text": [
      "1 \r\n",
      "2 3 2 \r\n",
      "3 4 5 4 3 \r\n",
      "4 5 6 7 6 5 4 \r\n",
      "5 6 7 8 9 8 7 6 5 \r\n"
     ]
    }
   ],
   "source": [
    "for i in range(5):\n",
    "    counter = i+1\n",
    "    counterneg= 2*i\n",
    "    for j in range(2*i+1):\n",
    "        if counter<=2*i+1:\n",
    "            print(counter,end = ' ')\n",
    "            counter+=1\n",
    "        else:\n",
    "            print(counterneg,end = ' ')\n",
    "            counterneg-=1\n",
    "            \n",
    "    print(\"\\r\")"
   ]
  },
  {
   "cell_type": "code",
   "execution_count": 35,
   "id": "19d84aa3",
   "metadata": {},
   "outputs": [],
   "source": [
    "class Car:\n",
    "    \n",
    "    def __init__(self, model, milage):\n",
    "        self.model = model\n",
    "        self.milage = milage\n",
    "        \n",
    "    def __add__(self, other):\n",
    "        return int(self.milage) + int(other.milage)\n",
    "    \n",
    "    def __eq__(self, other):\n",
    "        return int(self.milage) == int(other.milage)\n",
    "    \n",
    "    def __str__(self):\n",
    "        return \"{} {}\".format(self.milage, self.model)"
   ]
  },
  {
   "cell_type": "code",
   "execution_count": 36,
   "id": "211375a4",
   "metadata": {},
   "outputs": [],
   "source": [
    "c1 = Car('BMW', 9)\n",
    "c2 = Car('Audi', 4)"
   ]
  },
  {
   "cell_type": "code",
   "execution_count": 37,
   "id": "aae26472",
   "metadata": {},
   "outputs": [
    {
     "data": {
      "text/plain": [
       "False"
      ]
     },
     "execution_count": 37,
     "metadata": {},
     "output_type": "execute_result"
    }
   ],
   "source": [
    "c1 == c2"
   ]
  },
  {
   "cell_type": "code",
   "execution_count": 38,
   "id": "826a3426",
   "metadata": {},
   "outputs": [
    {
     "name": "stdout",
     "output_type": "stream",
     "text": [
      "13\n"
     ]
    }
   ],
   "source": [
    "print(c1+c2)"
   ]
  },
  {
   "cell_type": "code",
   "execution_count": 39,
   "id": "d7a30090",
   "metadata": {},
   "outputs": [
    {
     "data": {
      "text/plain": [
       "'9 BMW'"
      ]
     },
     "execution_count": 39,
     "metadata": {},
     "output_type": "execute_result"
    }
   ],
   "source": [
    "str(c1)"
   ]
  },
  {
   "cell_type": "code",
   "execution_count": null,
   "id": "8ac1cd68",
   "metadata": {},
   "outputs": [],
   "source": []
  }
 ],
 "metadata": {
  "kernelspec": {
   "display_name": "Python 3 (ipykernel)",
   "language": "python",
   "name": "python3"
  },
  "language_info": {
   "codemirror_mode": {
    "name": "ipython",
    "version": 3
   },
   "file_extension": ".py",
   "mimetype": "text/x-python",
   "name": "python",
   "nbconvert_exporter": "python",
   "pygments_lexer": "ipython3",
   "version": "3.10.8"
  }
 },
 "nbformat": 4,
 "nbformat_minor": 5
}
